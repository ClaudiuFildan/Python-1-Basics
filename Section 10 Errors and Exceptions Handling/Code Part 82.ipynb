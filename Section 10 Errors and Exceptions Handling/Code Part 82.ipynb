{
 "cells": [
  {
   "cell_type": "code",
   "execution_count": 1,
   "id": "4435fff2",
   "metadata": {},
   "outputs": [],
   "source": [
    "# Problem 1\n",
    "# Handle the exception thrown by the code below by using try and except blocks"
   ]
  },
  {
   "cell_type": "code",
   "execution_count": 9,
   "id": "83c8d266",
   "metadata": {},
   "outputs": [
    {
     "name": "stdout",
     "output_type": "stream",
     "text": [
      "General error! Watch out!\n"
     ]
    }
   ],
   "source": [
    "try:\n",
    "    for i in ['a','b','c']:\n",
    "        print(i**2)\n",
    "except:\n",
    "    print('General error! Watch out!')"
   ]
  },
  {
   "cell_type": "code",
   "execution_count": 2,
   "id": "06e1e932",
   "metadata": {},
   "outputs": [],
   "source": [
    "# Problem 2\n",
    "# Handle the exception thrown by the code below by using try and except block.\n",
    "# Then use a finally block to print \"All Done\""
   ]
  },
  {
   "cell_type": "code",
   "execution_count": 11,
   "id": "a6e4fb30",
   "metadata": {},
   "outputs": [
    {
     "name": "stdout",
     "output_type": "stream",
     "text": [
      "Error!!!\n",
      "All Done\n"
     ]
    }
   ],
   "source": [
    "try:\n",
    "    x=5\n",
    "    y=0\n",
    "    z=x/y\n",
    "except:\n",
    "    print(\"Error!!!\")\n",
    "finally:\n",
    "    print(\"All Done\")\n"
   ]
  },
  {
   "cell_type": "code",
   "execution_count": 17,
   "id": "854d53b5",
   "metadata": {},
   "outputs": [],
   "source": [
    "# Problem 3\n",
    "# Write a function  that asks for an integer and prints the squire of it. Use a while loop with a try\n",
    "# except, else block to account for incorrect inputs.\n",
    "def ask():\n",
    "    \n",
    "    waiting=True\n",
    "    while waiting:\n",
    "        try:\n",
    "            n=int(input(\"Enter a number: \"))\n",
    "            #print(f'The square of the value is {var**2}')\n",
    "        except:\n",
    "            print(\"Error!\\n\")\n",
    "            continue\n",
    "        else:\n",
    "            waiting=False   \n",
    "                \n",
    "    print(\"The square of the value: \")\n",
    "    print(n**2)\n",
    "            "
   ]
  },
  {
   "cell_type": "code",
   "execution_count": 16,
   "id": "1f15f15c",
   "metadata": {},
   "outputs": [
    {
     "name": "stdout",
     "output_type": "stream",
     "text": [
      "Enter a number: e\n",
      "Error!\n",
      "\n",
      "Enter a number: \n",
      "Error!\n",
      "\n",
      "Enter a number: \n",
      "Error!\n",
      "\n",
      "Enter a number: eee\n",
      "Error!\n",
      "\n",
      "Enter a number: 3\n",
      "The square of the value: \n",
      "9\n"
     ]
    }
   ],
   "source": [
    "ask()"
   ]
  },
  {
   "cell_type": "code",
   "execution_count": null,
   "id": "9d900f86",
   "metadata": {},
   "outputs": [],
   "source": []
  }
 ],
 "metadata": {
  "kernelspec": {
   "display_name": "Python 3 (ipykernel)",
   "language": "python",
   "name": "python3"
  },
  "language_info": {
   "codemirror_mode": {
    "name": "ipython",
    "version": 3
   },
   "file_extension": ".py",
   "mimetype": "text/x-python",
   "name": "python",
   "nbconvert_exporter": "python",
   "pygments_lexer": "ipython3",
   "version": "3.11.5"
  }
 },
 "nbformat": 4,
 "nbformat_minor": 5
}
