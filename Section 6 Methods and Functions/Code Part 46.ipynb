{
 "cells": [
  {
   "cell_type": "code",
   "execution_count": 6,
   "id": "24bd9684",
   "metadata": {},
   "outputs": [],
   "source": [
    "stock_prices=[('APPL',200),('GOOG',400),('MSFT',100)]"
   ]
  },
  {
   "cell_type": "code",
   "execution_count": 7,
   "id": "a5a8dd5a",
   "metadata": {},
   "outputs": [
    {
     "name": "stdout",
     "output_type": "stream",
     "text": [
      "('APPL', 200)\n",
      "('GOOG', 400)\n",
      "('MSFT', 100)\n"
     ]
    }
   ],
   "source": [
    "for item in stock_prices:\n",
    "    print(item)"
   ]
  },
  {
   "cell_type": "code",
   "execution_count": 8,
   "id": "cf7a0ce8",
   "metadata": {},
   "outputs": [
    {
     "name": "stdout",
     "output_type": "stream",
     "text": [
      "220.0\n",
      "440.0\n",
      "110.0\n"
     ]
    }
   ],
   "source": [
    "for ticker,price in stock_prices:\n",
    "    print(price+(0.1*price))"
   ]
  },
  {
   "cell_type": "code",
   "execution_count": 9,
   "id": "18ac13df",
   "metadata": {},
   "outputs": [],
   "source": [
    "work_hours=[('Abby',100),('Billy',400),('Cassie',800)]"
   ]
  },
  {
   "cell_type": "code",
   "execution_count": 12,
   "id": "c2ad644b",
   "metadata": {},
   "outputs": [],
   "source": [
    "def employee_check(work_hours):\n",
    "    current_max=0\n",
    "    employee_of_month=''\n",
    "    \n",
    "    for employee,hours in work_hours:\n",
    "        if hours>current_max:\n",
    "            current_max=hours\n",
    "            employee_of_month=employee\n",
    "        else:\n",
    "            pass\n",
    "            \n",
    "    return (employee_of_month,current_max)"
   ]
  },
  {
   "cell_type": "code",
   "execution_count": 17,
   "id": "ae3139f7",
   "metadata": {},
   "outputs": [],
   "source": [
    "result=employee_check(work_hours)"
   ]
  },
  {
   "cell_type": "code",
   "execution_count": 18,
   "id": "4e14da58",
   "metadata": {},
   "outputs": [],
   "source": [
    "name,hours=employee_check(work_hours)"
   ]
  },
  {
   "cell_type": "code",
   "execution_count": 19,
   "id": "90bb6311",
   "metadata": {},
   "outputs": [
    {
     "data": {
      "text/plain": [
       "('Cassie', 800)"
      ]
     },
     "execution_count": 19,
     "metadata": {},
     "output_type": "execute_result"
    }
   ],
   "source": [
    "result"
   ]
  },
  {
   "cell_type": "code",
   "execution_count": 20,
   "id": "d34ab8ff",
   "metadata": {},
   "outputs": [
    {
     "data": {
      "text/plain": [
       "'Cassie'"
      ]
     },
     "execution_count": 20,
     "metadata": {},
     "output_type": "execute_result"
    }
   ],
   "source": [
    "name"
   ]
  },
  {
   "cell_type": "code",
   "execution_count": 21,
   "id": "c80af51a",
   "metadata": {},
   "outputs": [
    {
     "data": {
      "text/plain": [
       "800"
      ]
     },
     "execution_count": 21,
     "metadata": {},
     "output_type": "execute_result"
    }
   ],
   "source": [
    "hours"
   ]
  },
  {
   "cell_type": "code",
   "execution_count": 22,
   "id": "d8bddc93",
   "metadata": {},
   "outputs": [
    {
     "ename": "ValueError",
     "evalue": "not enough values to unpack (expected 3, got 2)",
     "output_type": "error",
     "traceback": [
      "\u001b[1;31m---------------------------------------------------------------------------\u001b[0m",
      "\u001b[1;31mValueError\u001b[0m                                Traceback (most recent call last)",
      "Cell \u001b[1;32mIn[22], line 1\u001b[0m\n\u001b[1;32m----> 1\u001b[0m name,hours,locations\u001b[38;5;241m=\u001b[39memployee_check(work_hours)\n",
      "\u001b[1;31mValueError\u001b[0m: not enough values to unpack (expected 3, got 2)"
     ]
    }
   ],
   "source": [
    "name,hours,locations=employee_check(work_hours)"
   ]
  },
  {
   "cell_type": "code",
   "execution_count": 23,
   "id": "39cc9634",
   "metadata": {},
   "outputs": [],
   "source": [
    "item=employee_check(work_hours)"
   ]
  },
  {
   "cell_type": "code",
   "execution_count": null,
   "id": "01046949",
   "metadata": {},
   "outputs": [],
   "source": []
  }
 ],
 "metadata": {
  "kernelspec": {
   "display_name": "Python 3 (ipykernel)",
   "language": "python",
   "name": "python3"
  },
  "language_info": {
   "codemirror_mode": {
    "name": "ipython",
    "version": 3
   },
   "file_extension": ".py",
   "mimetype": "text/x-python",
   "name": "python",
   "nbconvert_exporter": "python",
   "pygments_lexer": "ipython3",
   "version": "3.11.5"
  }
 },
 "nbformat": 4,
 "nbformat_minor": 5
}
