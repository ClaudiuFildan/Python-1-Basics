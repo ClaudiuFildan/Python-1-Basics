{
 "cells": [
  {
   "cell_type": "code",
   "execution_count": 15,
   "id": "9b044bdf",
   "metadata": {},
   "outputs": [],
   "source": [
    "# Lesser of the two evens\n",
    "def lesser_of_the_two(a,b):\n",
    "    if a%2==0 and b%2==0:\n",
    "        # Both are even\n",
    "        if a<b:\n",
    "            result=a\n",
    "        else:\n",
    "            result=b\n",
    "    else:\n",
    "        if a>b:\n",
    "            result=a\n",
    "        else:\n",
    "            result=b \n",
    "    \n",
    "    return result  \n",
    "        "
   ]
  },
  {
   "cell_type": "code",
   "execution_count": 17,
   "id": "fe4e569b",
   "metadata": {},
   "outputs": [
    {
     "data": {
      "text/plain": [
       "7"
      ]
     },
     "execution_count": 17,
     "metadata": {},
     "output_type": "execute_result"
    }
   ],
   "source": [
    " lesser_of_the_two(7,5)"
   ]
  },
  {
   "cell_type": "code",
   "execution_count": 19,
   "id": "dfa4e044",
   "metadata": {},
   "outputs": [],
   "source": [
    "def lesser_of_the_two(a,b):\n",
    "    if a%2==0 and b%2==0:\n",
    "        return min(a,b)\n",
    "    else:\n",
    "        return max(a,b)"
   ]
  },
  {
   "cell_type": "code",
   "execution_count": 20,
   "id": "f19219a0",
   "metadata": {},
   "outputs": [
    {
     "data": {
      "text/plain": [
       "7"
      ]
     },
     "execution_count": 20,
     "metadata": {},
     "output_type": "execute_result"
    }
   ],
   "source": [
    " lesser_of_the_two(7,5)"
   ]
  },
  {
   "cell_type": "code",
   "execution_count": 21,
   "id": "aa076b3b",
   "metadata": {},
   "outputs": [],
   "source": [
    "#Write a function that takes a two word string and returns True if both words begin with the same letter"
   ]
  },
  {
   "cell_type": "code",
   "execution_count": 46,
   "id": "4484a913",
   "metadata": {},
   "outputs": [],
   "source": [
    "def animal_crackers(text):\n",
    "    wordlist=text.lower().split()\n",
    "    if wordlist[0][0]==wordlist[1][0]:\n",
    "        return True\n",
    "    else: \n",
    "        return False    "
   ]
  },
  {
   "cell_type": "code",
   "execution_count": 47,
   "id": "af8674ff",
   "metadata": {},
   "outputs": [
    {
     "data": {
      "text/plain": [
       "True"
      ]
     },
     "execution_count": 47,
     "metadata": {},
     "output_type": "execute_result"
    }
   ],
   "source": [
    "animal_crackers('Levelheaded Llama')"
   ]
  },
  {
   "cell_type": "code",
   "execution_count": 42,
   "id": "45cd2b49",
   "metadata": {},
   "outputs": [
    {
     "data": {
      "text/plain": [
       "False"
      ]
     },
     "execution_count": 42,
     "metadata": {},
     "output_type": "execute_result"
    }
   ],
   "source": [
    "animal_crackers('Crazy Kangaroo')"
   ]
  },
  {
   "cell_type": "code",
   "execution_count": 49,
   "id": "d77631eb",
   "metadata": {},
   "outputs": [],
   "source": [
    "# Given two integers, retrun True if the sum of the integers is 20 or if oneof the integers is 20. If not return False"
   ]
  },
  {
   "cell_type": "code",
   "execution_count": 53,
   "id": "9166081b",
   "metadata": {},
   "outputs": [],
   "source": [
    "def  makes_twenty(n1,n2):\n",
    "    if n1+n2==20:\n",
    "        return True\n",
    "    elif n1==20:\n",
    "        return True\n",
    "    else:\n",
    "        return False"
   ]
  },
  {
   "cell_type": "code",
   "execution_count": 54,
   "id": "baf01c66",
   "metadata": {},
   "outputs": [
    {
     "data": {
      "text/plain": [
       "True"
      ]
     },
     "execution_count": 54,
     "metadata": {},
     "output_type": "execute_result"
    }
   ],
   "source": [
    " makes_twenty(20,1)"
   ]
  },
  {
   "cell_type": "code",
   "execution_count": 56,
   "id": "0fd4cf97",
   "metadata": {},
   "outputs": [],
   "source": [
    "def  makes_twenty(n1,n2):\n",
    "    return (n1+n2)==20 or n1==20 or n2==20"
   ]
  },
  {
   "cell_type": "code",
   "execution_count": null,
   "id": "288bf4cd",
   "metadata": {},
   "outputs": [],
   "source": []
  }
 ],
 "metadata": {
  "kernelspec": {
   "display_name": "Python 3 (ipykernel)",
   "language": "python",
   "name": "python3"
  },
  "language_info": {
   "codemirror_mode": {
    "name": "ipython",
    "version": 3
   },
   "file_extension": ".py",
   "mimetype": "text/x-python",
   "name": "python",
   "nbconvert_exporter": "python",
   "pygments_lexer": "ipython3",
   "version": "3.11.5"
  }
 },
 "nbformat": 4,
 "nbformat_minor": 5
}
