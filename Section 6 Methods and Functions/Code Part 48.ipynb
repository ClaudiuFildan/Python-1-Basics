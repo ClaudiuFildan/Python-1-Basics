{
 "cells": [
  {
   "cell_type": "code",
   "execution_count": 17,
   "id": "bf6871e7",
   "metadata": {},
   "outputs": [],
   "source": [
    "# Coding Exercide 10\n",
    "def myfunc():\n",
    "    print('Hello World')"
   ]
  },
  {
   "cell_type": "code",
   "execution_count": 16,
   "id": "0fc3d4a5",
   "metadata": {},
   "outputs": [
    {
     "name": "stdout",
     "output_type": "stream",
     "text": [
      "Hello Ana\n"
     ]
    }
   ],
   "source": [
    "# Coding Exercise 11\n",
    "def myfunc(name):\n",
    "    print('Hello {}'.format(name))\n",
    "myfunc('Ana')    "
   ]
  },
  {
   "cell_type": "code",
   "execution_count": null,
   "id": "1e5e2243",
   "metadata": {},
   "outputs": [],
   "source": []
  },
  {
   "cell_type": "code",
   "execution_count": 15,
   "id": "f6c8c376",
   "metadata": {},
   "outputs": [
    {
     "name": "stdout",
     "output_type": "stream",
     "text": [
      "Hello\n"
     ]
    }
   ],
   "source": [
    "# Coding exercise 12\n",
    "def myfunc(a):\n",
    "    if a is True:\n",
    "        print('Hello')\n",
    "    else:\n",
    "        print('Goodbye')\n",
    "myfunc(True)        "
   ]
  },
  {
   "cell_type": "code",
   "execution_count": null,
   "id": "6a555e13",
   "metadata": {},
   "outputs": [],
   "source": []
  },
  {
   "cell_type": "code",
   "execution_count": 13,
   "id": "64dd4a25",
   "metadata": {},
   "outputs": [],
   "source": [
    "# Coding Exercide 13\n",
    "def myfunc(x,y,z):\n",
    "    if z==True:\n",
    "        return x\n",
    "    else:\n",
    "        return y"
   ]
  },
  {
   "cell_type": "code",
   "execution_count": 20,
   "id": "a7597f7e",
   "metadata": {},
   "outputs": [
    {
     "data": {
      "text/plain": [
       "3"
      ]
     },
     "execution_count": 20,
     "metadata": {},
     "output_type": "execute_result"
    }
   ],
   "source": [
    "# Coding Exercise 14\n",
    "def myfunc(a,b):\n",
    "    return a+b\n",
    "myfunc(1,2)"
   ]
  },
  {
   "cell_type": "code",
   "execution_count": 21,
   "id": "8509f3bb",
   "metadata": {},
   "outputs": [
    {
     "data": {
      "text/plain": [
       "False"
      ]
     },
     "execution_count": 21,
     "metadata": {},
     "output_type": "execute_result"
    }
   ],
   "source": [
    "# Coding Exercise 15\n",
    "def is_even(n):\n",
    "    if n%2==0:\n",
    "        return True\n",
    "    else:\n",
    "        return False\n",
    "is_even(3)    "
   ]
  },
  {
   "cell_type": "code",
   "execution_count": 23,
   "id": "e6a134af",
   "metadata": {},
   "outputs": [],
   "source": [
    "# Coding Exercise 16\n",
    "def is_greater(a,b):\n",
    "    if a>b:\n",
    "        return True\n",
    "    else:\n",
    "        return False\n"
   ]
  },
  {
   "cell_type": "code",
   "execution_count": null,
   "id": "d9c380fc",
   "metadata": {},
   "outputs": [],
   "source": []
  }
 ],
 "metadata": {
  "kernelspec": {
   "display_name": "Python 3 (ipykernel)",
   "language": "python",
   "name": "python3"
  },
  "language_info": {
   "codemirror_mode": {
    "name": "ipython",
    "version": 3
   },
   "file_extension": ".py",
   "mimetype": "text/x-python",
   "name": "python",
   "nbconvert_exporter": "python",
   "pygments_lexer": "ipython3",
   "version": "3.11.5"
  }
 },
 "nbformat": 4,
 "nbformat_minor": 5
}
