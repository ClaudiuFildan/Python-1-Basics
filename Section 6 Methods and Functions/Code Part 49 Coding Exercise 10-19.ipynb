{
 "cells": [
  {
   "cell_type": "code",
   "execution_count": 5,
   "id": "1b0e9536",
   "metadata": {},
   "outputs": [
    {
     "data": {
      "text/plain": [
       "330"
      ]
     },
     "execution_count": 5,
     "metadata": {},
     "output_type": "execute_result"
    }
   ],
   "source": [
    "# Coding Exercise 17\n",
    "def myfunc(*args):\n",
    "    return sum(args)\n",
    "myfunc(10,20,300)"
   ]
  },
  {
   "cell_type": "code",
   "execution_count": 13,
   "id": "0c8a474d",
   "metadata": {},
   "outputs": [
    {
     "data": {
      "text/plain": [
       "[6, 8]"
      ]
     },
     "execution_count": 13,
     "metadata": {},
     "output_type": "execute_result"
    }
   ],
   "source": [
    "# Coding Exercise 18\n",
    "def myfunc(*args):\n",
    "    mylist=[]\n",
    "    for item in args:\n",
    "        if item%2==0:\n",
    "            mylist.append(item)\n",
    "    return mylist   \n",
    "myfunc(5,6,7,8)"
   ]
  },
  {
   "cell_type": "code",
   "execution_count": 23,
   "id": "05e1e845",
   "metadata": {},
   "outputs": [
    {
     "data": {
      "text/plain": [
       "'aNtHrOpOmOrPhIsM'"
      ]
     },
     "execution_count": 23,
     "metadata": {},
     "output_type": "execute_result"
    }
   ],
   "source": [
    "# Coding Exercise 19\n",
    "def myfunc(mystring):\n",
    "    newstring=''\n",
    "    count=0\n",
    "    for item in mystring:\n",
    "        #print(item)\n",
    "        count=count+1\n",
    "        if count%2==1:\n",
    "            newstring=newstring+item.lower()\n",
    "        elif count%2==0:\n",
    "            newstring=newstring+item.upper()\n",
    "    return newstring\n",
    "myfunc('Anthropomorphism')        "
   ]
  },
  {
   "cell_type": "code",
   "execution_count": null,
   "id": "f2f071e7",
   "metadata": {},
   "outputs": [],
   "source": []
  }
 ],
 "metadata": {
  "kernelspec": {
   "display_name": "Python 3 (ipykernel)",
   "language": "python",
   "name": "python3"
  },
  "language_info": {
   "codemirror_mode": {
    "name": "ipython",
    "version": 3
   },
   "file_extension": ".py",
   "mimetype": "text/x-python",
   "name": "python",
   "nbconvert_exporter": "python",
   "pygments_lexer": "ipython3",
   "version": "3.11.5"
  }
 },
 "nbformat": 4,
 "nbformat_minor": 5
}
