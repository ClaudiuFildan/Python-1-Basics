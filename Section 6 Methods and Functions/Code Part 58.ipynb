{
 "cells": [
  {
   "cell_type": "code",
   "execution_count": 6,
   "id": "bedc8b12",
   "metadata": {},
   "outputs": [
    {
     "data": {
      "text/plain": [
       "33.49333333333333"
      ]
     },
     "execution_count": 6,
     "metadata": {},
     "output_type": "execute_result"
    }
   ],
   "source": [
    "# write a functionthat computes the volume of a sphere given its radius\n",
    "def vol(rad):\n",
    "    return (4/3)*(3.14)*(rad**3)\n",
    "vol(2)"
   ]
  },
  {
   "cell_type": "code",
   "execution_count": 7,
   "id": "33102453",
   "metadata": {},
   "outputs": [],
   "source": [
    "# Write a function that checks whether a number is in a given range\n",
    "# (inclusive of high and low)"
   ]
  },
  {
   "cell_type": "code",
   "execution_count": 12,
   "id": "06244576",
   "metadata": {},
   "outputs": [
    {
     "name": "stdout",
     "output_type": "stream",
     "text": [
      "5 is in range of 2 and 7\n"
     ]
    }
   ],
   "source": [
    "def ran_check(num,low,high):\n",
    "    if num in range(low,high+1):\n",
    "        print(f'{num} is in range of {low} and {high}')\n",
    "    else:\n",
    "        print('not in range')\n",
    "ran_check(5,2,7)        "
   ]
  },
  {
   "cell_type": "code",
   "execution_count": 13,
   "id": "87953898",
   "metadata": {},
   "outputs": [],
   "source": [
    "# Write a Python function that accepts a string and calculates the \n",
    "# number of upper and lower case letters."
   ]
  },
  {
   "cell_type": "code",
   "execution_count": 22,
   "id": "c377a072",
   "metadata": {},
   "outputs": [],
   "source": [
    "def up_low(s):\n",
    "    lowercase=0\n",
    "    uppercase=0\n",
    "    \n",
    "    for char in s:\n",
    "        if char.isupper():\n",
    "            uppercase+=1\n",
    "        elif char.islower():\n",
    "            lowercase+=1\n",
    "        else:\n",
    "            pass\n",
    "    print(f'Original String: {s}')    \n",
    "    print(f'Lowercase count: {lowercase}')\n",
    "    print(f'Uppercase count: {uppercase}')\n",
    "            "
   ]
  },
  {
   "cell_type": "code",
   "execution_count": 23,
   "id": "7a2b68f3",
   "metadata": {},
   "outputs": [
    {
     "name": "stdout",
     "output_type": "stream",
     "text": [
      "Original String: Hello Mr. Rogers, how are you this fine Tuesday!\n",
      "Lowercase count: 33\n",
      "Uppercase count: 4\n"
     ]
    }
   ],
   "source": [
    "s='Hello Mr. Rogers, how are you this fine Tuesday!'\n",
    "up_low(s)"
   ]
  },
  {
   "cell_type": "code",
   "execution_count": 26,
   "id": "98247b88",
   "metadata": {},
   "outputs": [],
   "source": [
    "def up_low(s):\n",
    "    d={'upper':0,'lower':0}\n",
    "    \n",
    "    for char in s:\n",
    "        if char.isupper():\n",
    "            d['upper']+=1\n",
    "        elif char.islower():\n",
    "            d['lower']+=1\n",
    "        else:\n",
    "            pass\n",
    "    print(f'Original String: {s}')    \n",
    "    print(f'Lowercase count: {d[\"lower\"]}')\n",
    "    print(f'Uppercase count: {d[\"upper\"]}')"
   ]
  },
  {
   "cell_type": "code",
   "execution_count": 27,
   "id": "186c357f",
   "metadata": {},
   "outputs": [
    {
     "name": "stdout",
     "output_type": "stream",
     "text": [
      "Original String: Hello Mr. Rogers, how are you this fine Tuesday!\n",
      "Lowercase count: 33\n",
      "Uppercase count: 4\n"
     ]
    }
   ],
   "source": [
    "s='Hello Mr. Rogers, how are you this fine Tuesday!'\n",
    "up_low(s)"
   ]
  },
  {
   "cell_type": "code",
   "execution_count": 28,
   "id": "56011e09",
   "metadata": {},
   "outputs": [],
   "source": [
    "# Write a function that takes alist and returns a new list with unique elements of the first list"
   ]
  },
  {
   "cell_type": "code",
   "execution_count": 32,
   "id": "f00fd5e1",
   "metadata": {},
   "outputs": [],
   "source": [
    "def unique_list(lst):\n",
    "    return list(set(lst))\n"
   ]
  },
  {
   "cell_type": "code",
   "execution_count": 33,
   "id": "0ee6bb79",
   "metadata": {},
   "outputs": [
    {
     "data": {
      "text/plain": [
       "[1, 2, 3, 4, 5]"
      ]
     },
     "execution_count": 33,
     "metadata": {},
     "output_type": "execute_result"
    }
   ],
   "source": [
    "unique_list([1,1,1,1,2,2,3,3,3,3,4,5])"
   ]
  },
  {
   "cell_type": "code",
   "execution_count": 38,
   "id": "c63ef428",
   "metadata": {},
   "outputs": [],
   "source": [
    "def unique_list(lst):\n",
    "    seen_numbers=[]\n",
    "    for number in lst:\n",
    "        if number not in seen_numbers:\n",
    "            seen_numbers.append(number)\n",
    "    return seen_numbers        \n",
    "        "
   ]
  },
  {
   "cell_type": "code",
   "execution_count": 39,
   "id": "0a109261",
   "metadata": {},
   "outputs": [
    {
     "data": {
      "text/plain": [
       "[1, 2, 3, 4, 5]"
      ]
     },
     "execution_count": 39,
     "metadata": {},
     "output_type": "execute_result"
    }
   ],
   "source": [
    "unique_list([1,1,1,1,2,2,3,3,3,3,4,5])"
   ]
  },
  {
   "cell_type": "code",
   "execution_count": 41,
   "id": "ca6ac4b2",
   "metadata": {},
   "outputs": [],
   "source": [
    "# Write a function to mutiply all the numbers in a list"
   ]
  },
  {
   "cell_type": "code",
   "execution_count": 43,
   "id": "763a2df2",
   "metadata": {},
   "outputs": [],
   "source": [
    "def multiply(numbers):\n",
    "    total=1\n",
    "    for num in numbers:\n",
    "        total=total*num\n",
    "    return total    "
   ]
  },
  {
   "cell_type": "code",
   "execution_count": 45,
   "id": "28d99cdd",
   "metadata": {},
   "outputs": [
    {
     "data": {
      "text/plain": [
       "-240"
      ]
     },
     "execution_count": 45,
     "metadata": {},
     "output_type": "execute_result"
    }
   ],
   "source": [
    "multiply([1,2,3,-4,10])"
   ]
  },
  {
   "cell_type": "code",
   "execution_count": 46,
   "id": "753f3e64",
   "metadata": {},
   "outputs": [],
   "source": [
    "# Write a function that checks whether a word or phase is palindrom or not"
   ]
  },
  {
   "cell_type": "code",
   "execution_count": 57,
   "id": "3b7b6fb3",
   "metadata": {},
   "outputs": [],
   "source": [
    "def palindrome(s):\n",
    "    # REMOVE SPACES STRING\n",
    "    #Check if stringis ==reversed version of the string\n",
    "    s=s.replace(' ','')\n",
    "    return s==s[::-1]"
   ]
  },
  {
   "cell_type": "code",
   "execution_count": 56,
   "id": "a66c4485",
   "metadata": {},
   "outputs": [
    {
     "name": "stdout",
     "output_type": "stream",
     "text": [
      "nursesrun\n"
     ]
    },
    {
     "data": {
      "text/plain": [
       "True"
      ]
     },
     "execution_count": 56,
     "metadata": {},
     "output_type": "execute_result"
    }
   ],
   "source": [
    "palindrome('nurses run')"
   ]
  },
  {
   "cell_type": "code",
   "execution_count": 58,
   "id": "9ec73ea0",
   "metadata": {},
   "outputs": [],
   "source": [
    "# Write a Pyhon function to check whether a string is pangram or not"
   ]
  },
  {
   "cell_type": "code",
   "execution_count": 81,
   "id": "deb8a555",
   "metadata": {},
   "outputs": [],
   "source": [
    "import string\n",
    "\n",
    "def ispangram(str1,alphabet=string.ascii_lowercase):\n",
    "    # Create a set of the alphabet\n",
    "    # Remove spaces\n",
    "    # Conver into all lowercase\n",
    "    # Grab all unique letters from the string set()\n",
    "    # alphabet set==string set input\n",
    "    alphaset=set(alphabet)\n",
    "    str1=str1.replace(' ','')\n",
    "    #print(str1)\n",
    "    str1=str1.lower()\n",
    "    #print(str1)\n",
    "    str1=set(str1)\n",
    "    #print(str1)\n",
    "    return str1==alphaset"
   ]
  },
  {
   "cell_type": "code",
   "execution_count": 80,
   "id": "c2a72b09",
   "metadata": {},
   "outputs": [
    {
     "data": {
      "text/plain": [
       "True"
      ]
     },
     "execution_count": 80,
     "metadata": {},
     "output_type": "execute_result"
    }
   ],
   "source": [
    "ispangram(\"The quick brown fox jumps over the lazy dog\")"
   ]
  },
  {
   "cell_type": "code",
   "execution_count": 67,
   "id": "86a3c28b",
   "metadata": {},
   "outputs": [
    {
     "name": "stdout",
     "output_type": "stream",
     "text": [
      "abcdefghijklmnopqrstuvwxyz\n"
     ]
    }
   ],
   "source": [
    "print(string.ascii_lowercase)"
   ]
  },
  {
   "cell_type": "code",
   "execution_count": null,
   "id": "7835a860",
   "metadata": {},
   "outputs": [],
   "source": []
  }
 ],
 "metadata": {
  "kernelspec": {
   "display_name": "Python 3 (ipykernel)",
   "language": "python",
   "name": "python3"
  },
  "language_info": {
   "codemirror_mode": {
    "name": "ipython",
    "version": 3
   },
   "file_extension": ".py",
   "mimetype": "text/x-python",
   "name": "python",
   "nbconvert_exporter": "python",
   "pygments_lexer": "ipython3",
   "version": "3.11.5"
  }
 },
 "nbformat": 4,
 "nbformat_minor": 5
}
