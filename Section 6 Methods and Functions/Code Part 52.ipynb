{
 "cells": [
  {
   "cell_type": "code",
   "execution_count": 1,
   "id": "bb110b31",
   "metadata": {},
   "outputs": [],
   "source": [
    "# Write a function that capitalized the first and the fourth letter of a name"
   ]
  },
  {
   "cell_type": "code",
   "execution_count": 9,
   "id": "8e395bde",
   "metadata": {},
   "outputs": [
    {
     "data": {
      "text/plain": [
       "'MacDonald'"
      ]
     },
     "execution_count": 9,
     "metadata": {},
     "output_type": "execute_result"
    }
   ],
   "source": [
    "def old_macdonald(name):\n",
    "    first_letter=name[0]\n",
    "    inbetween=name[1:3]\n",
    "    second_letter=name[3]\n",
    "    rest=name[4:]\n",
    "    return first_letter.upper()+inbetween+second_letter.upper()+rest\n",
    "old_macdonald('macdonald')   \n",
    "    "
   ]
  },
  {
   "cell_type": "code",
   "execution_count": 11,
   "id": "619a67bf",
   "metadata": {},
   "outputs": [
    {
     "data": {
      "text/plain": [
       "'MacDonald'"
      ]
     },
     "execution_count": 11,
     "metadata": {},
     "output_type": "execute_result"
    }
   ],
   "source": [
    "def old_macdonald(name):\n",
    "    first_half=name[:3]\n",
    "    second_half=name[3:]\n",
    "    return first_half.capitalize()+second_half.capitalize()\n",
    "old_macdonald('macdonald') "
   ]
  },
  {
   "cell_type": "code",
   "execution_count": 12,
   "id": "ae72fab2",
   "metadata": {},
   "outputs": [],
   "source": [
    "#Given a sentence, return a sentence with the words reversed"
   ]
  },
  {
   "cell_type": "code",
   "execution_count": 28,
   "id": "98ce8051",
   "metadata": {},
   "outputs": [
    {
     "data": {
      "text/plain": [
       "'home am I'"
      ]
     },
     "execution_count": 28,
     "metadata": {},
     "output_type": "execute_result"
    }
   ],
   "source": [
    "def master_yoda(text):\n",
    "    wordlist=text.split()\n",
    "    reverse_word_list=wordlist[::-1]\n",
    "    return ' '.join(reverse_word_list)\n",
    "      \n",
    "master_yoda('I am home')    "
   ]
  },
  {
   "cell_type": "code",
   "execution_count": 29,
   "id": "7f3a0298",
   "metadata": {},
   "outputs": [
    {
     "data": {
      "text/plain": [
       "'a!b!c'"
      ]
     },
     "execution_count": 29,
     "metadata": {},
     "output_type": "execute_result"
    }
   ],
   "source": [
    "mylist=['a','b','c']\n",
    "'!'.join(mylist)"
   ]
  },
  {
   "cell_type": "code",
   "execution_count": 38,
   "id": "3e1e8090",
   "metadata": {},
   "outputs": [
    {
     "data": {
      "text/plain": [
       "True"
      ]
     },
     "execution_count": 38,
     "metadata": {},
     "output_type": "execute_result"
    }
   ],
   "source": [
    "#Given an integer n, return True if n is within 10 of either 100 or 200\n",
    "def almost_there(n):\n",
    "   return (abs(100-n)<=10) or (abs(200-n)<=10)\n",
    "almost_there(209)    "
   ]
  },
  {
   "cell_type": "code",
   "execution_count": null,
   "id": "ebc6414a",
   "metadata": {},
   "outputs": [],
   "source": []
  },
  {
   "cell_type": "code",
   "execution_count": null,
   "id": "2fa07b51",
   "metadata": {},
   "outputs": [],
   "source": []
  }
 ],
 "metadata": {
  "kernelspec": {
   "display_name": "Python 3 (ipykernel)",
   "language": "python",
   "name": "python3"
  },
  "language_info": {
   "codemirror_mode": {
    "name": "ipython",
    "version": 3
   },
   "file_extension": ".py",
   "mimetype": "text/x-python",
   "name": "python",
   "nbconvert_exporter": "python",
   "pygments_lexer": "ipython3",
   "version": "3.11.5"
  }
 },
 "nbformat": 4,
 "nbformat_minor": 5
}
