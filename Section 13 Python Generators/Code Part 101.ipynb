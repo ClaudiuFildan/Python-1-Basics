{
 "cells": [
  {
   "cell_type": "code",
   "execution_count": null,
   "id": "13887e91",
   "metadata": {},
   "outputs": [],
   "source": [
    "# Problem 1\n",
    "# Create a generator that generates the square of numbers up to some number N"
   ]
  },
  {
   "cell_type": "code",
   "execution_count": 15,
   "id": "a220c933",
   "metadata": {},
   "outputs": [],
   "source": [
    "def gensquares(N):\n",
    "    for i in range(0,N):\n",
    "        yield i**2"
   ]
  },
  {
   "cell_type": "code",
   "execution_count": 16,
   "id": "97562493",
   "metadata": {},
   "outputs": [
    {
     "name": "stdout",
     "output_type": "stream",
     "text": [
      "0\n",
      "1\n",
      "4\n",
      "9\n",
      "16\n",
      "25\n",
      "36\n",
      "49\n",
      "64\n",
      "81\n"
     ]
    }
   ],
   "source": [
    "for x in gensquares(10):\n",
    "    print(x)"
   ]
  },
  {
   "cell_type": "code",
   "execution_count": 17,
   "id": "41712286",
   "metadata": {},
   "outputs": [],
   "source": [
    "# Problem 2\n",
    "# Create a generator that yields n number between\n",
    "# a low and high number (That are inputs)\n",
    "# Note: Use the random library"
   ]
  },
  {
   "cell_type": "code",
   "execution_count": 19,
   "id": "988d56b6",
   "metadata": {},
   "outputs": [
    {
     "data": {
      "text/plain": [
       "9"
      ]
     },
     "execution_count": 19,
     "metadata": {},
     "output_type": "execute_result"
    }
   ],
   "source": [
    "import random\n",
    "random.randint(1,10)"
   ]
  },
  {
   "cell_type": "code",
   "execution_count": 42,
   "id": "8f7f1ea9",
   "metadata": {},
   "outputs": [],
   "source": [
    "def rand_num(low,high,n):\n",
    "    for i in range(n):\n",
    "        yield random.randint(low,high)"
   ]
  },
  {
   "cell_type": "code",
   "execution_count": 43,
   "id": "b883b88d",
   "metadata": {},
   "outputs": [
    {
     "name": "stdout",
     "output_type": "stream",
     "text": [
      "4\n",
      "6\n",
      "9\n",
      "3\n",
      "6\n",
      "2\n",
      "6\n",
      "2\n",
      "8\n",
      "7\n",
      "2\n",
      "8\n"
     ]
    }
   ],
   "source": [
    "for num in rand_num(1,10,12):\n",
    "    print(num)"
   ]
  },
  {
   "cell_type": "code",
   "execution_count": 32,
   "id": "e3cc76da",
   "metadata": {},
   "outputs": [
    {
     "data": {
      "text/plain": [
       "'h'"
      ]
     },
     "execution_count": 32,
     "metadata": {},
     "output_type": "execute_result"
    }
   ],
   "source": [
    "# Problem 3\n",
    "#Use the Iter()  function to convert the string below into an iterator:\n",
    "s='hello'\n",
    "s_iter=iter(s)\n",
    "next(s_iter)"
   ]
  },
  {
   "cell_type": "code",
   "execution_count": 33,
   "id": "ef859178",
   "metadata": {},
   "outputs": [
    {
     "data": {
      "text/plain": [
       "'e'"
      ]
     },
     "execution_count": 33,
     "metadata": {},
     "output_type": "execute_result"
    }
   ],
   "source": [
    "next(s_iter)"
   ]
  },
  {
   "cell_type": "code",
   "execution_count": 34,
   "id": "b5bec6af",
   "metadata": {},
   "outputs": [
    {
     "data": {
      "text/plain": [
       "'l'"
      ]
     },
     "execution_count": 34,
     "metadata": {},
     "output_type": "execute_result"
    }
   ],
   "source": [
    "next(s_iter)"
   ]
  },
  {
   "cell_type": "code",
   "execution_count": 35,
   "id": "8a132c5e",
   "metadata": {},
   "outputs": [
    {
     "data": {
      "text/plain": [
       "'o'"
      ]
     },
     "execution_count": 35,
     "metadata": {},
     "output_type": "execute_result"
    }
   ],
   "source": [
    "next(s_iter)"
   ]
  },
  {
   "cell_type": "code",
   "execution_count": 44,
   "id": "b8013ecc",
   "metadata": {},
   "outputs": [],
   "source": [
    "#next(s_iter)"
   ]
  },
  {
   "cell_type": "code",
   "execution_count": 37,
   "id": "6c9fd7db",
   "metadata": {},
   "outputs": [],
   "source": [
    "# Problem 4\n",
    "# Explain a use case for a generator using ayield statement where\n",
    "# you would not want to use a normal function with a return statement"
   ]
  },
  {
   "cell_type": "code",
   "execution_count": 45,
   "id": "8e813f61",
   "metadata": {},
   "outputs": [],
   "source": []
  },
  {
   "cell_type": "code",
   "execution_count": 46,
   "id": "66051e95",
   "metadata": {},
   "outputs": [],
   "source": [
    "# IF THE OUTPUT HAS THE POTENTIAL OF TAKING UP A LARGE AMOUNT OF MEMORY\n",
    "# AND YOU ONLY INTEND TO ITERATE TO ITERATE THROIGH IT,\n",
    "# YOU WOULD WANT TO USE A GENERATOR\n",
    "# MEMORY MANAGEMENT"
   ]
  },
  {
   "cell_type": "code",
   "execution_count": null,
   "id": "5a268e2e",
   "metadata": {},
   "outputs": [],
   "source": []
  },
  {
   "cell_type": "code",
   "execution_count": 38,
   "id": "5aaf1a07",
   "metadata": {},
   "outputs": [],
   "source": [
    "# Problem Extra Credit\n",
    "# Can you explain what gencomp is in the code below? (Note: We never covered this in lecture!)\n",
    "# You will have to do some Google/StackOverFlow"
   ]
  },
  {
   "cell_type": "code",
   "execution_count": 40,
   "id": "dced729d",
   "metadata": {},
   "outputs": [
    {
     "name": "stdout",
     "output_type": "stream",
     "text": [
      "4\n",
      "5\n"
     ]
    }
   ],
   "source": [
    "my_list=[1,2,3,4,5]\n",
    "gencomp=(item for item in my_list if item>3)\n",
    "for item in gencomp:\n",
    "    print(item)"
   ]
  },
  {
   "cell_type": "code",
   "execution_count": null,
   "id": "129b9752",
   "metadata": {},
   "outputs": [],
   "source": [
    "# GENERATOR COMPRESION"
   ]
  }
 ],
 "metadata": {
  "kernelspec": {
   "display_name": "Python 3 (ipykernel)",
   "language": "python",
   "name": "python3"
  },
  "language_info": {
   "codemirror_mode": {
    "name": "ipython",
    "version": 3
   },
   "file_extension": ".py",
   "mimetype": "text/x-python",
   "name": "python",
   "nbconvert_exporter": "python",
   "pygments_lexer": "ipython3",
   "version": "3.11.5"
  }
 },
 "nbformat": 4,
 "nbformat_minor": 5
}
