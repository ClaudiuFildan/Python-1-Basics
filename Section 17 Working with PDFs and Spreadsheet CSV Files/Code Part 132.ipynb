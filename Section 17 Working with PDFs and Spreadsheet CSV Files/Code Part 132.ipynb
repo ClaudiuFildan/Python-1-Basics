{
 "cells": [
  {
   "cell_type": "code",
   "execution_count": 1,
   "id": "4b7c5c5c",
   "metadata": {},
   "outputs": [],
   "source": [
    "# TASK ONE"
   ]
  },
  {
   "cell_type": "code",
   "execution_count": 2,
   "id": "de445cfa",
   "metadata": {},
   "outputs": [],
   "source": [
    "# Use Python to extract the Google Drive link from the .csv file \n",
    "# (Hint: Its along the diagonalfrom the top left to bottom right)"
   ]
  },
  {
   "cell_type": "code",
   "execution_count": 5,
   "id": "a327d2e5",
   "metadata": {},
   "outputs": [],
   "source": [
    "# The corect result is shown below, if you can ot download it from Google Drive,\n",
    "# we added the PDF file to the Exercise_Files folder already"
   ]
  },
  {
   "cell_type": "code",
   "execution_count": null,
   "id": "4df758ae",
   "metadata": {},
   "outputs": [],
   "source": []
  },
  {
   "cell_type": "code",
   "execution_count": null,
   "id": "d0dc7fa5",
   "metadata": {},
   "outputs": [],
   "source": []
  },
  {
   "cell_type": "code",
   "execution_count": 3,
   "id": "e5ceb39f",
   "metadata": {},
   "outputs": [],
   "source": [
    "# TASK TWO"
   ]
  },
  {
   "cell_type": "code",
   "execution_count": 4,
   "id": "643ed1c3",
   "metadata": {},
   "outputs": [],
   "source": [
    "# Download the PDF fromthe Google Drive link and find the phone \n",
    "# number that is in the document"
   ]
  },
  {
   "cell_type": "code",
   "execution_count": 6,
   "id": "bfa443ed",
   "metadata": {},
   "outputs": [],
   "source": [
    "# You should get this phone number\n",
    "# 505 503 4455"
   ]
  },
  {
   "cell_type": "code",
   "execution_count": null,
   "id": "2efc6628",
   "metadata": {},
   "outputs": [],
   "source": []
  }
 ],
 "metadata": {
  "kernelspec": {
   "display_name": "Python 3 (ipykernel)",
   "language": "python",
   "name": "python3"
  },
  "language_info": {
   "codemirror_mode": {
    "name": "ipython",
    "version": 3
   },
   "file_extension": ".py",
   "mimetype": "text/x-python",
   "name": "python",
   "nbconvert_exporter": "python",
   "pygments_lexer": "ipython3",
   "version": "3.11.5"
  }
 },
 "nbformat": 4,
 "nbformat_minor": 5
}
