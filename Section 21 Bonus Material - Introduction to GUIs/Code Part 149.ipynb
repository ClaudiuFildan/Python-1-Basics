{
 "cells": [
  {
   "cell_type": "code",
   "execution_count": 11,
   "id": "873935a6",
   "metadata": {},
   "outputs": [
    {
     "name": "stdout",
     "output_type": "stream",
     "text": [
      "('@jupyter-widgets/base', '2.0.0', 'LayoutModel', '@jupyter-widgets/base', '2.0.0', 'LayoutView')\n",
      "('@jupyter-widgets/controls', '2.0.0', 'AccordionModel', '@jupyter-widgets/controls', '2.0.0', 'AccordionView')\n",
      "('@jupyter-widgets/controls', '2.0.0', 'AudioModel', '@jupyter-widgets/controls', '2.0.0', 'AudioView')\n",
      "('@jupyter-widgets/controls', '2.0.0', 'BoundedFloatTextModel', '@jupyter-widgets/controls', '2.0.0', 'FloatTextView')\n",
      "('@jupyter-widgets/controls', '2.0.0', 'BoundedIntTextModel', '@jupyter-widgets/controls', '2.0.0', 'IntTextView')\n",
      "('@jupyter-widgets/controls', '2.0.0', 'BoxModel', '@jupyter-widgets/controls', '2.0.0', 'BoxView')\n",
      "('@jupyter-widgets/controls', '2.0.0', 'ButtonModel', '@jupyter-widgets/controls', '2.0.0', 'ButtonView')\n",
      "('@jupyter-widgets/controls', '2.0.0', 'ButtonStyleModel', '@jupyter-widgets/base', '2.0.0', 'StyleView')\n",
      "('@jupyter-widgets/controls', '2.0.0', 'CheckboxModel', '@jupyter-widgets/controls', '2.0.0', 'CheckboxView')\n",
      "('@jupyter-widgets/controls', '2.0.0', 'CheckboxStyleModel', '@jupyter-widgets/base', '2.0.0', 'StyleView')\n",
      "('@jupyter-widgets/controls', '2.0.0', 'ColorPickerModel', '@jupyter-widgets/controls', '2.0.0', 'ColorPickerView')\n",
      "('@jupyter-widgets/controls', '2.0.0', 'ColorsInputModel', '@jupyter-widgets/controls', '2.0.0', 'ColorsInputView')\n",
      "('@jupyter-widgets/controls', '2.0.0', 'ComboboxModel', '@jupyter-widgets/controls', '2.0.0', 'ComboboxView')\n",
      "('@jupyter-widgets/controls', '2.0.0', 'ControllerAxisModel', '@jupyter-widgets/controls', '2.0.0', 'ControllerAxisView')\n",
      "('@jupyter-widgets/controls', '2.0.0', 'ControllerButtonModel', '@jupyter-widgets/controls', '2.0.0', 'ControllerButtonView')\n",
      "('@jupyter-widgets/controls', '2.0.0', 'ControllerModel', '@jupyter-widgets/controls', '2.0.0', 'ControllerView')\n",
      "('@jupyter-widgets/controls', '2.0.0', 'DOMWidgetModel', '@jupyter-widgets/controls', '2.0.0', None)\n",
      "('@jupyter-widgets/controls', '2.0.0', 'DatePickerModel', '@jupyter-widgets/controls', '2.0.0', 'DatePickerView')\n",
      "('@jupyter-widgets/controls', '2.0.0', 'DatetimeModel', '@jupyter-widgets/controls', '2.0.0', 'DatetimeView')\n",
      "('@jupyter-widgets/controls', '2.0.0', 'DescriptionStyleModel', '@jupyter-widgets/base', '2.0.0', 'StyleView')\n",
      "('@jupyter-widgets/controls', '2.0.0', 'DirectionalLinkModel', '@jupyter-widgets/controls', '2.0.0', None)\n",
      "('@jupyter-widgets/controls', '2.0.0', 'DropdownModel', '@jupyter-widgets/controls', '2.0.0', 'DropdownView')\n",
      "('@jupyter-widgets/controls', '2.0.0', 'FileUploadModel', '@jupyter-widgets/controls', '2.0.0', 'FileUploadView')\n",
      "('@jupyter-widgets/controls', '2.0.0', 'FloatLogSliderModel', '@jupyter-widgets/controls', '2.0.0', 'FloatLogSliderView')\n",
      "('@jupyter-widgets/controls', '2.0.0', 'FloatProgressModel', '@jupyter-widgets/controls', '2.0.0', 'ProgressView')\n",
      "('@jupyter-widgets/controls', '2.0.0', 'FloatRangeSliderModel', '@jupyter-widgets/controls', '2.0.0', 'FloatRangeSliderView')\n",
      "('@jupyter-widgets/controls', '2.0.0', 'FloatSliderModel', '@jupyter-widgets/controls', '2.0.0', 'FloatSliderView')\n",
      "('@jupyter-widgets/controls', '2.0.0', 'FloatTextModel', '@jupyter-widgets/controls', '2.0.0', 'FloatTextView')\n",
      "('@jupyter-widgets/controls', '2.0.0', 'FloatsInputModel', '@jupyter-widgets/controls', '2.0.0', 'FloatsInputView')\n",
      "('@jupyter-widgets/controls', '2.0.0', 'GridBoxModel', '@jupyter-widgets/controls', '2.0.0', 'GridBoxView')\n",
      "('@jupyter-widgets/controls', '2.0.0', 'HBoxModel', '@jupyter-widgets/controls', '2.0.0', 'HBoxView')\n",
      "('@jupyter-widgets/controls', '2.0.0', 'HTMLMathModel', '@jupyter-widgets/controls', '2.0.0', 'HTMLMathView')\n",
      "('@jupyter-widgets/controls', '2.0.0', 'HTMLMathStyleModel', '@jupyter-widgets/base', '2.0.0', 'StyleView')\n",
      "('@jupyter-widgets/controls', '2.0.0', 'HTMLModel', '@jupyter-widgets/controls', '2.0.0', 'HTMLView')\n",
      "('@jupyter-widgets/controls', '2.0.0', 'HTMLStyleModel', '@jupyter-widgets/base', '2.0.0', 'StyleView')\n",
      "('@jupyter-widgets/controls', '2.0.0', 'ImageModel', '@jupyter-widgets/controls', '2.0.0', 'ImageView')\n",
      "('@jupyter-widgets/controls', '2.0.0', 'IntProgressModel', '@jupyter-widgets/controls', '2.0.0', 'ProgressView')\n",
      "('@jupyter-widgets/controls', '2.0.0', 'IntRangeSliderModel', '@jupyter-widgets/controls', '2.0.0', 'IntRangeSliderView')\n",
      "('@jupyter-widgets/controls', '2.0.0', 'IntSliderModel', '@jupyter-widgets/controls', '2.0.0', 'IntSliderView')\n",
      "('@jupyter-widgets/controls', '2.0.0', 'IntTextModel', '@jupyter-widgets/controls', '2.0.0', 'IntTextView')\n",
      "('@jupyter-widgets/controls', '2.0.0', 'IntsInputModel', '@jupyter-widgets/controls', '2.0.0', 'IntsInputView')\n",
      "('@jupyter-widgets/controls', '2.0.0', 'LabelModel', '@jupyter-widgets/controls', '2.0.0', 'LabelView')\n",
      "('@jupyter-widgets/controls', '2.0.0', 'LabelStyleModel', '@jupyter-widgets/base', '2.0.0', 'StyleView')\n",
      "('@jupyter-widgets/controls', '2.0.0', 'LinkModel', '@jupyter-widgets/controls', '2.0.0', None)\n",
      "('@jupyter-widgets/controls', '2.0.0', 'NaiveDatetimeModel', '@jupyter-widgets/controls', '2.0.0', 'DatetimeView')\n",
      "('@jupyter-widgets/controls', '2.0.0', 'PasswordModel', '@jupyter-widgets/controls', '2.0.0', 'PasswordView')\n",
      "('@jupyter-widgets/controls', '2.0.0', 'PlayModel', '@jupyter-widgets/controls', '2.0.0', 'PlayView')\n",
      "('@jupyter-widgets/controls', '2.0.0', 'ProgressStyleModel', '@jupyter-widgets/base', '2.0.0', 'StyleView')\n",
      "('@jupyter-widgets/controls', '2.0.0', 'RadioButtonsModel', '@jupyter-widgets/controls', '2.0.0', 'RadioButtonsView')\n",
      "('@jupyter-widgets/controls', '2.0.0', 'SelectModel', '@jupyter-widgets/controls', '2.0.0', 'SelectView')\n",
      "('@jupyter-widgets/controls', '2.0.0', 'SelectMultipleModel', '@jupyter-widgets/controls', '2.0.0', 'SelectMultipleView')\n",
      "('@jupyter-widgets/controls', '2.0.0', 'SelectionRangeSliderModel', '@jupyter-widgets/controls', '2.0.0', 'SelectionRangeSliderView')\n",
      "('@jupyter-widgets/controls', '2.0.0', 'SelectionSliderModel', '@jupyter-widgets/controls', '2.0.0', 'SelectionSliderView')\n",
      "('@jupyter-widgets/controls', '2.0.0', 'SliderStyleModel', '@jupyter-widgets/base', '2.0.0', 'StyleView')\n",
      "('@jupyter-widgets/controls', '2.0.0', 'StackModel', '@jupyter-widgets/controls', '2.0.0', 'StackView')\n",
      "('@jupyter-widgets/controls', '2.0.0', 'TabModel', '@jupyter-widgets/controls', '2.0.0', 'TabView')\n",
      "('@jupyter-widgets/controls', '2.0.0', 'TagsInputModel', '@jupyter-widgets/controls', '2.0.0', 'TagsInputView')\n",
      "('@jupyter-widgets/controls', '2.0.0', 'TextModel', '@jupyter-widgets/controls', '2.0.0', 'TextView')\n",
      "('@jupyter-widgets/controls', '2.0.0', 'TextStyleModel', '@jupyter-widgets/base', '2.0.0', 'StyleView')\n",
      "('@jupyter-widgets/controls', '2.0.0', 'TextareaModel', '@jupyter-widgets/controls', '2.0.0', 'TextareaView')\n",
      "('@jupyter-widgets/controls', '2.0.0', 'TimeModel', '@jupyter-widgets/controls', '2.0.0', 'TimeView')\n",
      "('@jupyter-widgets/controls', '2.0.0', 'ToggleButtonModel', '@jupyter-widgets/controls', '2.0.0', 'ToggleButtonView')\n",
      "('@jupyter-widgets/controls', '2.0.0', 'ToggleButtonStyleModel', '@jupyter-widgets/base', '2.0.0', 'StyleView')\n",
      "('@jupyter-widgets/controls', '2.0.0', 'ToggleButtonsModel', '@jupyter-widgets/controls', '2.0.0', 'ToggleButtonsView')\n",
      "('@jupyter-widgets/controls', '2.0.0', 'ToggleButtonsStyleModel', '@jupyter-widgets/base', '2.0.0', 'StyleView')\n",
      "('@jupyter-widgets/controls', '2.0.0', 'VBoxModel', '@jupyter-widgets/controls', '2.0.0', 'VBoxView')\n",
      "('@jupyter-widgets/controls', '2.0.0', 'ValidModel', '@jupyter-widgets/controls', '2.0.0', 'ValidView')\n",
      "('@jupyter-widgets/controls', '2.0.0', 'VideoModel', '@jupyter-widgets/controls', '2.0.0', 'VideoView')\n",
      "('@jupyter-widgets/output', '1.0.0', 'OutputModel', '@jupyter-widgets/output', '1.0.0', 'OutputView')\n"
     ]
    },
    {
     "name": "stderr",
     "output_type": "stream",
     "text": [
      "C:\\Users\\filda\\AppData\\Local\\Temp\\ipykernel_33348\\1561751951.py:4: DeprecationWarning: Widget.widget_types is deprecated.\n",
      "  for item in widgets.Widget.widget_types.items():\n"
     ]
    }
   ],
   "source": [
    "import ipywidgets as widgets\n",
    "\n",
    "# Show all available widgets\n",
    "for item in widgets.Widget.widget_types.items():\n",
    "    print(item[0])"
   ]
  },
  {
   "cell_type": "code",
   "execution_count": 13,
   "id": "569d904c",
   "metadata": {},
   "outputs": [
    {
     "data": {
      "application/vnd.jupyter.widget-view+json": {
       "model_id": "202220ff026d444fb4c5e3957d7d3575",
       "version_major": 2,
       "version_minor": 0
      },
      "text/plain": [
       "IntSlider(value=7, continuous_update=False, description='Test', max=10)"
      ]
     },
     "execution_count": 13,
     "metadata": {},
     "output_type": "execute_result"
    }
   ],
   "source": [
    "# IntSlider\n",
    "widgets.IntSlider(\n",
    "    value=7,\n",
    "    min=0,\n",
    "    max=10,\n",
    "    step=1,\n",
    "    description='Test',\n",
    "    disabled=False,\n",
    "    continuous_update=False,\n",
    "    orientation='horizontal',\n",
    "    readout=True,\n",
    "    readout_format='d'\n",
    ")"
   ]
  },
  {
   "cell_type": "code",
   "execution_count": 17,
   "id": "ea5a30c8",
   "metadata": {},
   "outputs": [
    {
     "data": {
      "application/vnd.jupyter.widget-view+json": {
       "model_id": "4cc6a7b877f34436965096ec5d3d42a6",
       "version_major": 2,
       "version_minor": 0
      },
      "text/plain": [
       "IntProgress(value=7, bar_style='warning', description='Loading:', max=10)"
      ]
     },
     "execution_count": 17,
     "metadata": {},
     "output_type": "execute_result"
    }
   ],
   "source": [
    "# IntProgess\n",
    "widgets.IntProgress(\n",
    "    value=7,\n",
    "    min=0,\n",
    "    max=10,\n",
    "    step=1,\n",
    "    description='Loading:',\n",
    "    bar_style='warning',# 'Success','info','warning','danger' or ''\n",
    "    orientation='horizontal'\n",
    ")"
   ]
  },
  {
   "cell_type": "code",
   "execution_count": 19,
   "id": "3cdfd9c6",
   "metadata": {},
   "outputs": [
    {
     "data": {
      "application/vnd.jupyter.widget-view+json": {
       "model_id": "b0cb46eae5ac48cf8223e08f38e29ee7",
       "version_major": 2,
       "version_minor": 0
      },
      "text/plain": [
       "BoundedIntText(value=7, description='Text', max=10)"
      ]
     },
     "execution_count": 19,
     "metadata": {},
     "output_type": "execute_result"
    }
   ],
   "source": [
    "# BoundedIntText\n",
    "widgets.BoundedIntText(\n",
    "    value=7,\n",
    "    min=0,\n",
    "    max=10,\n",
    "    step=1,\n",
    "    description='Text',\n",
    "    disabled=False\n",
    ")"
   ]
  },
  {
   "cell_type": "code",
   "execution_count": 22,
   "id": "a886f083",
   "metadata": {},
   "outputs": [
    {
     "data": {
      "application/vnd.jupyter.widget-view+json": {
       "model_id": "4de1991c1f3a45d78058400e24bd3617",
       "version_major": 2,
       "version_minor": 0
      },
      "text/plain": [
       "BoundedFloatText(value=7.5, description='Text', max=10.0, step=0.1)"
      ]
     },
     "execution_count": 22,
     "metadata": {},
     "output_type": "execute_result"
    }
   ],
   "source": [
    "# BoundedFloatText\n",
    "widgets.BoundedFloatText(\n",
    "    value=7.5,\n",
    "    min=0,\n",
    "    max=10.0,\n",
    "    step=0.1,\n",
    "    description='Text',\n",
    "    disabled=False\n",
    ")"
   ]
  },
  {
   "cell_type": "code",
   "execution_count": 23,
   "id": "2b4b75d9",
   "metadata": {},
   "outputs": [
    {
     "data": {
      "application/vnd.jupyter.widget-view+json": {
       "model_id": "a1987adbf01d430295246037a9f2a4aa",
       "version_major": 2,
       "version_minor": 0
      },
      "text/plain": [
       "IntText(value=7, description='Any')"
      ]
     },
     "execution_count": 23,
     "metadata": {},
     "output_type": "execute_result"
    }
   ],
   "source": [
    "# IntText\n",
    "widgets.IntText(\n",
    "    value=7,\n",
    "    description='Any',\n",
    "    disabled=False\n",
    ")"
   ]
  },
  {
   "cell_type": "code",
   "execution_count": 47,
   "id": "42aa9330",
   "metadata": {},
   "outputs": [
    {
     "data": {
      "application/vnd.jupyter.widget-view+json": {
       "model_id": "f6835a7799774c669c4ce927651031c2",
       "version_major": 2,
       "version_minor": 0
      },
      "text/plain": [
       "FloatText(value=7.5, description='Any')"
      ]
     },
     "execution_count": 47,
     "metadata": {},
     "output_type": "execute_result"
    }
   ],
   "source": [
    "# FloatText\n",
    "widgets.FloatText(\n",
    "    value=7.5,\n",
    "    description='Any',\n",
    "    disabled=False\n",
    ")"
   ]
  },
  {
   "cell_type": "code",
   "execution_count": 30,
   "id": "ccd25261",
   "metadata": {},
   "outputs": [
    {
     "data": {
      "application/vnd.jupyter.widget-view+json": {
       "model_id": "f7bb0e58e2bd42dfb3d3cb8c620d7438",
       "version_major": 2,
       "version_minor": 0
      },
      "text/plain": [
       "ToggleButton(value=False, button_style='success', description='Click me', icon='check', tooltip='Description')"
      ]
     },
     "execution_count": 30,
     "metadata": {},
     "output_type": "execute_result"
    }
   ],
   "source": [
    "# Boolean widgets\n",
    "# ToggleButton\n",
    "widgets.ToggleButton(\n",
    "    value=False,\n",
    "    description='Click me',\n",
    "    disabled=False,\n",
    "    button_style='success',# 'success','info','warning','danger' or ''\n",
    "    tooltip='Description',\n",
    "    icon='check'\n",
    ")"
   ]
  },
  {
   "cell_type": "code",
   "execution_count": 32,
   "id": "0c4657b1",
   "metadata": {},
   "outputs": [
    {
     "data": {
      "application/vnd.jupyter.widget-view+json": {
       "model_id": "135e1f3078e8482286c56469cfdbe3da",
       "version_major": 2,
       "version_minor": 0
      },
      "text/plain": [
       "Checkbox(value=False, description='Check me')"
      ]
     },
     "execution_count": 32,
     "metadata": {},
     "output_type": "execute_result"
    }
   ],
   "source": [
    "#Checkbox\n",
    "widgets.Checkbox(\n",
    "    value=False,\n",
    "    description='Check me',\n",
    "    disabled=False\n",
    ")"
   ]
  },
  {
   "cell_type": "code",
   "execution_count": 35,
   "id": "a4a4cf67",
   "metadata": {},
   "outputs": [
    {
     "data": {
      "application/vnd.jupyter.widget-view+json": {
       "model_id": "28a635176f5d42d9a5c9e707799c93f9",
       "version_major": 2,
       "version_minor": 0
      },
      "text/plain": [
       "Valid(value=True, description='Valid!')"
      ]
     },
     "execution_count": 35,
     "metadata": {},
     "output_type": "execute_result"
    }
   ],
   "source": [
    "#Valid\n",
    "widgets.Valid(\n",
    "    value=True,\n",
    "    description='Valid!',\n",
    ")"
   ]
  },
  {
   "cell_type": "code",
   "execution_count": 38,
   "id": "eed00e05",
   "metadata": {},
   "outputs": [
    {
     "data": {
      "application/vnd.jupyter.widget-view+json": {
       "model_id": "8617b3a5c0a74459a3ec4bd603b57ff7",
       "version_major": 2,
       "version_minor": 0
      },
      "text/plain": [
       "Dropdown(description='Number:', index=1, options=('1', '2', '3'), value='2')"
      ]
     },
     "execution_count": 38,
     "metadata": {},
     "output_type": "execute_result"
    }
   ],
   "source": [
    "# Selection Widgets\n",
    "# Dropdown\n",
    "widgets.Dropdown(\n",
    "    options=['1','2','3'],\n",
    "    value='2',\n",
    "    description='Number:',\n",
    "    disabled=False,\n",
    ")"
   ]
  },
  {
   "cell_type": "code",
   "execution_count": 42,
   "id": "62dc2a00",
   "metadata": {},
   "outputs": [
    {
     "data": {
      "application/vnd.jupyter.widget-view+json": {
       "model_id": "83a0bc1664c74f439accaa1733dde7ac",
       "version_major": 2,
       "version_minor": 0
      },
      "text/plain": [
       "Dropdown(description='Number:', index=1, options={'One': 1, 'Two': 2, 'Three': 3}, value=2)"
      ]
     },
     "execution_count": 42,
     "metadata": {},
     "output_type": "execute_result"
    }
   ],
   "source": [
    "widgets.Dropdown(\n",
    "    options={'One': 1, 'Two' : 2, 'Three' : 3},\n",
    "    value=2,\n",
    "    description='Number:',\n",
    ")"
   ]
  },
  {
   "cell_type": "code",
   "execution_count": 44,
   "id": "0fb5ad17",
   "metadata": {},
   "outputs": [
    {
     "data": {
      "application/vnd.jupyter.widget-view+json": {
       "model_id": "44ee0a6d9b1d4cca845d70ead94cbdb3",
       "version_major": 2,
       "version_minor": 0
      },
      "text/plain": [
       "RadioButtons(options=('pepperoni', 'pineapple', 'anchovies'), value='pepperoni')"
      ]
     },
     "execution_count": 44,
     "metadata": {},
     "output_type": "execute_result"
    }
   ],
   "source": [
    "# RadioButtons\n",
    "widgets.RadioButtons(\n",
    "    options=['pepperoni','pineapple','anchovies'],\n",
    "    # value='pineapple',\n",
    "    descrition='Pizza topping',\n",
    "    disable=False\n",
    ")"
   ]
  },
  {
   "cell_type": "code",
   "execution_count": 45,
   "id": "a522d88d",
   "metadata": {},
   "outputs": [
    {
     "data": {
      "application/vnd.jupyter.widget-view+json": {
       "model_id": "c541a286fb4d43488f0af5a6258a61d5",
       "version_major": 2,
       "version_minor": 0
      },
      "text/plain": [
       "Select(index=2, options=('Linux', 'Windows', 'OSX'), value='OSX')"
      ]
     },
     "execution_count": 45,
     "metadata": {},
     "output_type": "execute_result"
    }
   ],
   "source": [
    "# Select\n",
    "widgets.Select(\n",
    "    options=['Linux','Windows','OSX'],\n",
    "    value='OSX',\n",
    "    descrition='OS:',\n",
    "    disable=False\n",
    ")"
   ]
  },
  {
   "cell_type": "code",
   "execution_count": 46,
   "id": "c45f1bd1",
   "metadata": {},
   "outputs": [
    {
     "data": {
      "application/vnd.jupyter.widget-view+json": {
       "model_id": "10d13263693743b6be38ec6c012cdadf",
       "version_major": 2,
       "version_minor": 0
      },
      "text/plain": [
       "SelectionSlider(index=1, options=('scrambled', 'sunny side up', 'poached', 'over easy'), value='sunny side up'…"
      ]
     },
     "execution_count": 46,
     "metadata": {},
     "output_type": "execute_result"
    }
   ],
   "source": [
    "# SelectionSlider\n",
    "widgets.SelectionSlider(\n",
    "    options=['scrambled','sunny side up','poached','over easy'],\n",
    "    value='sunny side up',\n",
    "    descrition='I like my eggs ....',\n",
    "    orientation='horizontal',\n",
    "    readout=True\n",
    ")"
   ]
  },
  {
   "cell_type": "code",
   "execution_count": 48,
   "id": "94305b85",
   "metadata": {},
   "outputs": [
    {
     "data": {
      "application/vnd.jupyter.widget-view+json": {
       "model_id": "36fbaf7713a14785847ef39c722f35ed",
       "version_major": 2,
       "version_minor": 0
      },
      "text/plain": [
       "ToggleButtons(options=('Slow', 'Regular', 'Fast'), tooltips=('Description of slow', 'Description of regular', …"
      ]
     },
     "execution_count": 48,
     "metadata": {},
     "output_type": "execute_result"
    }
   ],
   "source": [
    "widgets.ToggleButtons(\n",
    "    options=['Slow','Regular','Fast'],\n",
    "    descrition='Speed:',\n",
    "    disabled=False,\n",
    "    button_style='',# 'success','info','warning','danger' or ''\n",
    "    tooltips=['Description of slow','Description of regular','Description of fast'],\n",
    "    # icons=['check']*3\n",
    ")"
   ]
  },
  {
   "cell_type": "code",
   "execution_count": 51,
   "id": "e03246ac",
   "metadata": {},
   "outputs": [
    {
     "data": {
      "application/vnd.jupyter.widget-view+json": {
       "model_id": "c9113f56dea3474d843f152850b66f03",
       "version_major": 2,
       "version_minor": 0
      },
      "text/plain": [
       "SelectMultiple(description='Fruits', index=(1,), options=('Apples', 'Oranges', 'Pears'), value=('Oranges',))"
      ]
     },
     "execution_count": 51,
     "metadata": {},
     "output_type": "execute_result"
    }
   ],
   "source": [
    "widgets.SelectMultiple(\n",
    "    options=['Apples','Oranges','Pears'],\n",
    "    value=['Oranges'],\n",
    "    # rows=10\n",
    "    description='Fruits',\n",
    "    disabled=False\n",
    ")"
   ]
  },
  {
   "cell_type": "code",
   "execution_count": 52,
   "id": "9da83ce2",
   "metadata": {},
   "outputs": [],
   "source": [
    "# String Widgets"
   ]
  },
  {
   "cell_type": "code",
   "execution_count": 53,
   "id": "315837ae",
   "metadata": {},
   "outputs": [
    {
     "data": {
      "application/vnd.jupyter.widget-view+json": {
       "model_id": "1663aeaf712c43bba9964cd52c8797a5",
       "version_major": 2,
       "version_minor": 0
      },
      "text/plain": [
       "Text(value='Hello World', description='String:', placeholder='Type something')"
      ]
     },
     "execution_count": 53,
     "metadata": {},
     "output_type": "execute_result"
    }
   ],
   "source": [
    "# Text\n",
    "widgets.Text(\n",
    "    value='Hello World',\n",
    "    placeholder='Type something',\n",
    "    description='String:',\n",
    "    disabled=False\n",
    ")"
   ]
  },
  {
   "cell_type": "code",
   "execution_count": 54,
   "id": "d24d3dc6",
   "metadata": {},
   "outputs": [
    {
     "data": {
      "application/vnd.jupyter.widget-view+json": {
       "model_id": "26ba445c5f8c43c5aeca2be74d5a601c",
       "version_major": 2,
       "version_minor": 0
      },
      "text/plain": [
       "Textarea(value='Hello World', description='String:', placeholder='Type something')"
      ]
     },
     "execution_count": 54,
     "metadata": {},
     "output_type": "execute_result"
    }
   ],
   "source": [
    "# Textarea\n",
    "widgets.Textarea(\n",
    "    value='Hello World',\n",
    "    placeholder='Type something',\n",
    "    description='String:',\n",
    "    disabled=False\n",
    ")"
   ]
  },
  {
   "cell_type": "code",
   "execution_count": 57,
   "id": "fd0174bd",
   "metadata": {},
   "outputs": [
    {
     "data": {
      "application/vnd.jupyter.widget-view+json": {
       "model_id": "0fac76da987c470a9a030035428b853f",
       "version_major": 2,
       "version_minor": 0
      },
      "text/plain": [
       "HBox(children=(Label(value='The  $m$  in $E=mc^2$:'), FloatSlider(value=0.0)))"
      ]
     },
     "execution_count": 57,
     "metadata": {},
     "output_type": "execute_result"
    }
   ],
   "source": [
    "# Label\n",
    "widgets.HBox([widgets.Label(value=\"The  $m$  in $E=mc^2$:\"),widgets.FloatSlider()])"
   ]
  },
  {
   "cell_type": "code",
   "execution_count": 58,
   "id": "f5a41398",
   "metadata": {},
   "outputs": [
    {
     "data": {
      "application/vnd.jupyter.widget-view+json": {
       "model_id": "d68f5bad194646a48e99daca7ee8040f",
       "version_major": 2,
       "version_minor": 0
      },
      "text/plain": [
       "HTML(value='Hello <b>World</b>', description='Some HTML', placeholder='Some HTML')"
      ]
     },
     "execution_count": 58,
     "metadata": {},
     "output_type": "execute_result"
    }
   ],
   "source": [
    "# HTML\n",
    "widgets.HTML(\n",
    "    value=\"Hello <b>World</b>\",\n",
    "    placeholder='Some HTML',\n",
    "    description='Some HTML',\n",
    ")"
   ]
  },
  {
   "cell_type": "code",
   "execution_count": 60,
   "id": "d07cdb17",
   "metadata": {},
   "outputs": [
    {
     "data": {
      "application/vnd.jupyter.widget-view+json": {
       "model_id": "aae7afe6f777499eb5d2d9d7684d4906",
       "version_major": 2,
       "version_minor": 0
      },
      "text/plain": [
       "HTMLMath(value='Some math and <i>HTML</i>: \\\\(x^2\\\\) and $$\\\\frac{x+1}{x-1}$$', description='Some HTML', place…"
      ]
     },
     "execution_count": 60,
     "metadata": {},
     "output_type": "execute_result"
    }
   ],
   "source": [
    "# HTML Math\n",
    "widgets.HTMLMath(\n",
    "    value=r\"Some math and <i>HTML</i>: \\(x^2\\) and $$\\frac{x+1}{x-1}$$\",\n",
    "    placeholder='Some HTML',\n",
    "    description='Some HTML',\n",
    ")"
   ]
  },
  {
   "cell_type": "code",
   "execution_count": 63,
   "id": "6aa8625f",
   "metadata": {},
   "outputs": [
    {
     "ename": "FileNotFoundError",
     "evalue": "[Errno 2] No such file or directory: 'images/WidgetArch.png'",
     "output_type": "error",
     "traceback": [
      "\u001b[1;31m---------------------------------------------------------------------------\u001b[0m",
      "\u001b[1;31mFileNotFoundError\u001b[0m                         Traceback (most recent call last)",
      "Cell \u001b[1;32mIn[63], line 2\u001b[0m\n\u001b[0;32m      1\u001b[0m \u001b[38;5;66;03m# Image\u001b[39;00m\n\u001b[1;32m----> 2\u001b[0m file\u001b[38;5;241m=\u001b[39m\u001b[38;5;28mopen\u001b[39m(\u001b[38;5;124m\"\u001b[39m\u001b[38;5;124mimages/WidgetArch.png\u001b[39m\u001b[38;5;124m\"\u001b[39m,\u001b[38;5;124m\"\u001b[39m\u001b[38;5;124mrb\u001b[39m\u001b[38;5;124m\"\u001b[39m)\n\u001b[0;32m      3\u001b[0m image\u001b[38;5;241m=\u001b[39mfile\u001b[38;5;241m.\u001b[39mread()\n\u001b[0;32m      4\u001b[0m widgets\u001b[38;5;241m.\u001b[39mImage(\n\u001b[0;32m      5\u001b[0m     value\u001b[38;5;241m=\u001b[39mimage,\n\u001b[0;32m      6\u001b[0m     \u001b[38;5;28mformat\u001b[39m\u001b[38;5;241m=\u001b[39m\u001b[38;5;124m'\u001b[39m\u001b[38;5;124mpng\u001b[39m\u001b[38;5;124m'\u001b[39m,\n\u001b[0;32m      7\u001b[0m     width\u001b[38;5;241m=\u001b[39m\u001b[38;5;241m300\u001b[39m,\n\u001b[0;32m      8\u001b[0m     height\u001b[38;5;241m=\u001b[39m\u001b[38;5;241m400\u001b[39m,\n\u001b[0;32m      9\u001b[0m )\n",
      "File \u001b[1;32m~\\anaconda3\\Lib\\site-packages\\IPython\\core\\interactiveshell.py:286\u001b[0m, in \u001b[0;36m_modified_open\u001b[1;34m(file, *args, **kwargs)\u001b[0m\n\u001b[0;32m    279\u001b[0m \u001b[38;5;28;01mif\u001b[39;00m file \u001b[38;5;129;01min\u001b[39;00m {\u001b[38;5;241m0\u001b[39m, \u001b[38;5;241m1\u001b[39m, \u001b[38;5;241m2\u001b[39m}:\n\u001b[0;32m    280\u001b[0m     \u001b[38;5;28;01mraise\u001b[39;00m \u001b[38;5;167;01mValueError\u001b[39;00m(\n\u001b[0;32m    281\u001b[0m         \u001b[38;5;124mf\u001b[39m\u001b[38;5;124m\"\u001b[39m\u001b[38;5;124mIPython won\u001b[39m\u001b[38;5;124m'\u001b[39m\u001b[38;5;124mt let you open fd=\u001b[39m\u001b[38;5;132;01m{\u001b[39;00mfile\u001b[38;5;132;01m}\u001b[39;00m\u001b[38;5;124m by default \u001b[39m\u001b[38;5;124m\"\u001b[39m\n\u001b[0;32m    282\u001b[0m         \u001b[38;5;124m\"\u001b[39m\u001b[38;5;124mas it is likely to crash IPython. If you know what you are doing, \u001b[39m\u001b[38;5;124m\"\u001b[39m\n\u001b[0;32m    283\u001b[0m         \u001b[38;5;124m\"\u001b[39m\u001b[38;5;124myou can use builtins\u001b[39m\u001b[38;5;124m'\u001b[39m\u001b[38;5;124m open.\u001b[39m\u001b[38;5;124m\"\u001b[39m\n\u001b[0;32m    284\u001b[0m     )\n\u001b[1;32m--> 286\u001b[0m \u001b[38;5;28;01mreturn\u001b[39;00m io_open(file, \u001b[38;5;241m*\u001b[39margs, \u001b[38;5;241m*\u001b[39m\u001b[38;5;241m*\u001b[39mkwargs)\n",
      "\u001b[1;31mFileNotFoundError\u001b[0m: [Errno 2] No such file or directory: 'images/WidgetArch.png'"
     ]
    }
   ],
   "source": [
    "# Image\n",
    "file=open(\"images/WidgetArch.png\",\"rb\")\n",
    "image=file.read()\n",
    "widgets.Image(\n",
    "    value=image,\n",
    "    format='png',\n",
    "    width=300,\n",
    "    height=400,\n",
    ")"
   ]
  },
  {
   "cell_type": "code",
   "execution_count": 64,
   "id": "7721311d",
   "metadata": {},
   "outputs": [
    {
     "data": {
      "application/vnd.jupyter.widget-view+json": {
       "model_id": "b5d6e62e587f4cafbe2b156147bc85c7",
       "version_major": 2,
       "version_minor": 0
      },
      "text/plain": [
       "Button(description='Click me', icon='check', style=ButtonStyle(), tooltip='Click me')"
      ]
     },
     "execution_count": 64,
     "metadata": {},
     "output_type": "execute_result"
    }
   ],
   "source": [
    "# Button\n",
    "widgets.Button(\n",
    "    description='Click me',\n",
    "    disabled=False,\n",
    "    button_style='', # 'success','info','warning','danger' or ''\n",
    "    tooltip='Click me',\n",
    "    icon='check'\n",
    ")"
   ]
  },
  {
   "cell_type": "code",
   "execution_count": null,
   "id": "310ca1cb",
   "metadata": {},
   "outputs": [],
   "source": []
  }
 ],
 "metadata": {
  "kernelspec": {
   "display_name": "Python 3 (ipykernel)",
   "language": "python",
   "name": "python3"
  },
  "language_info": {
   "codemirror_mode": {
    "name": "ipython",
    "version": 3
   },
   "file_extension": ".py",
   "mimetype": "text/x-python",
   "name": "python",
   "nbconvert_exporter": "python",
   "pygments_lexer": "ipython3",
   "version": "3.11.5"
  }
 },
 "nbformat": 4,
 "nbformat_minor": 5
}
