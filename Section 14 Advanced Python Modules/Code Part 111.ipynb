{
 "cells": [
  {
   "cell_type": "code",
   "execution_count": 3,
   "id": "f4c96503",
   "metadata": {},
   "outputs": [],
   "source": [
    "# Additional Regex Syntax"
   ]
  },
  {
   "cell_type": "code",
   "execution_count": 9,
   "id": "8bf3499c",
   "metadata": {},
   "outputs": [],
   "source": [
    "import re"
   ]
  },
  {
   "cell_type": "code",
   "execution_count": 13,
   "id": "c609275f",
   "metadata": {},
   "outputs": [
    {
     "data": {
      "text/plain": [
       "<re.Match object; span=(4, 7), match='cat'>"
      ]
     },
     "execution_count": 13,
     "metadata": {},
     "output_type": "execute_result"
    }
   ],
   "source": [
    "re.search(r'cat|dog','The cat is here')"
   ]
  },
  {
   "cell_type": "code",
   "execution_count": 17,
   "id": "a34e7ed9",
   "metadata": {},
   "outputs": [
    {
     "data": {
      "text/plain": [
       "['e cat', 'e hat', 'splat']"
      ]
     },
     "execution_count": 17,
     "metadata": {},
     "output_type": "execute_result"
    }
   ],
   "source": [
    "re.findall(r'...at','The cat in the hat went splat.')"
   ]
  },
  {
   "cell_type": "code",
   "execution_count": 19,
   "id": "3b42e21d",
   "metadata": {},
   "outputs": [
    {
     "data": {
      "text/plain": [
       "['2']"
      ]
     },
     "execution_count": 19,
     "metadata": {},
     "output_type": "execute_result"
    }
   ],
   "source": [
    "re.findall(r'\\d','The number is 2')"
   ]
  },
  {
   "cell_type": "code",
   "execution_count": null,
   "id": "ca99f1e4",
   "metadata": {},
   "outputs": [],
   "source": []
  },
  {
   "cell_type": "code",
   "execution_count": 20,
   "id": "727b49b3",
   "metadata": {},
   "outputs": [],
   "source": [
    "phase='there are 3 numbers 34 inside 5 this sentence'"
   ]
  },
  {
   "cell_type": "code",
   "execution_count": 23,
   "id": "67524831",
   "metadata": {},
   "outputs": [],
   "source": [
    "pattern=r'[^\\d]+'"
   ]
  },
  {
   "cell_type": "code",
   "execution_count": 24,
   "id": "87721c93",
   "metadata": {},
   "outputs": [
    {
     "data": {
      "text/plain": [
       "['there are ', ' numbers ', ' inside ', ' this sentence']"
      ]
     },
     "execution_count": 24,
     "metadata": {},
     "output_type": "execute_result"
    }
   ],
   "source": [
    "re.findall(pattern,phase)"
   ]
  },
  {
   "cell_type": "code",
   "execution_count": 42,
   "id": "41de8ed2",
   "metadata": {},
   "outputs": [],
   "source": [
    "test_phase='This is a string! But it has punctuatution. How can we remove it?'"
   ]
  },
  {
   "cell_type": "code",
   "execution_count": 43,
   "id": "92d2289b",
   "metadata": {},
   "outputs": [
    {
     "data": {
      "text/plain": [
       "['This is a string', ' But it has punctuatution', ' How can we remove it']"
      ]
     },
     "execution_count": 43,
     "metadata": {},
     "output_type": "execute_result"
    }
   ],
   "source": [
    "re.findall(r'[^!.?]+',test_phase)"
   ]
  },
  {
   "cell_type": "code",
   "execution_count": 44,
   "id": "e54cd46a",
   "metadata": {},
   "outputs": [],
   "source": [
    "clean=re.findall(r'[^!.? ]+',test_phase)"
   ]
  },
  {
   "cell_type": "code",
   "execution_count": 45,
   "id": "87499b9d",
   "metadata": {},
   "outputs": [
    {
     "data": {
      "text/plain": [
       "'This is a string But it has punctuatution How can we remove it'"
      ]
     },
     "execution_count": 45,
     "metadata": {},
     "output_type": "execute_result"
    }
   ],
   "source": [
    "' '.join(clean)"
   ]
  },
  {
   "cell_type": "code",
   "execution_count": null,
   "id": "ca881228",
   "metadata": {},
   "outputs": [],
   "source": []
  },
  {
   "cell_type": "code",
   "execution_count": 46,
   "id": "077a3519",
   "metadata": {},
   "outputs": [],
   "source": [
    "text='Only find the hypen-word in this sentence. But you do not know how long-ish they are'"
   ]
  },
  {
   "cell_type": "code",
   "execution_count": 47,
   "id": "68f44e16",
   "metadata": {},
   "outputs": [],
   "source": [
    "pattern=r'[\\w]+-[\\w]+'"
   ]
  },
  {
   "cell_type": "code",
   "execution_count": 48,
   "id": "86dae304",
   "metadata": {},
   "outputs": [
    {
     "data": {
      "text/plain": [
       "['hypen-word', 'long-ish']"
      ]
     },
     "execution_count": 48,
     "metadata": {},
     "output_type": "execute_result"
    }
   ],
   "source": [
    "re.findall(pattern,text)"
   ]
  },
  {
   "cell_type": "code",
   "execution_count": 52,
   "id": "abcac137",
   "metadata": {},
   "outputs": [],
   "source": [
    "text='Hello, would you likesome fish?'\n",
    "texttwo='Hello, would you like to take a catnap'\n",
    "textthree='Hello, have you seen this caterpillar'"
   ]
  },
  {
   "cell_type": "code",
   "execution_count": 55,
   "id": "639c05fa",
   "metadata": {},
   "outputs": [],
   "source": [
    "re.search(r'cat(fish|nap|claw)',textthree)"
   ]
  },
  {
   "cell_type": "code",
   "execution_count": null,
   "id": "86594851",
   "metadata": {},
   "outputs": [],
   "source": []
  }
 ],
 "metadata": {
  "kernelspec": {
   "display_name": "Python 3 (ipykernel)",
   "language": "python",
   "name": "python3"
  },
  "language_info": {
   "codemirror_mode": {
    "name": "ipython",
    "version": 3
   },
   "file_extension": ".py",
   "mimetype": "text/x-python",
   "name": "python",
   "nbconvert_exporter": "python",
   "pygments_lexer": "ipython3",
   "version": "3.11.5"
  }
 },
 "nbformat": 4,
 "nbformat_minor": 5
}
