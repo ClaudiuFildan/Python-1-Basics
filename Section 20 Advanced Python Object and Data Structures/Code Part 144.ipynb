{
 "cells": [
  {
   "cell_type": "code",
   "execution_count": 6,
   "id": "e8dbc01e",
   "metadata": {},
   "outputs": [],
   "source": [
    "# Advanced Python Object Test"
   ]
  },
  {
   "cell_type": "code",
   "execution_count": null,
   "id": "d392f460",
   "metadata": {},
   "outputs": [],
   "source": [
    "# Advanced Numbers"
   ]
  },
  {
   "cell_type": "code",
   "execution_count": 2,
   "id": "8479024b",
   "metadata": {},
   "outputs": [],
   "source": [
    "# Problem 1\n",
    "# Convert 1024 to binary and hexadecimal representation"
   ]
  },
  {
   "cell_type": "code",
   "execution_count": 28,
   "id": "ee594bba",
   "metadata": {},
   "outputs": [
    {
     "name": "stdout",
     "output_type": "stream",
     "text": [
      "0b10000000000\n",
      "0x400\n"
     ]
    }
   ],
   "source": [
    "print(bin(1024))\n",
    "print(hex(1024))"
   ]
  },
  {
   "cell_type": "code",
   "execution_count": 3,
   "id": "c6141a10",
   "metadata": {},
   "outputs": [],
   "source": [
    "# Problem 2"
   ]
  },
  {
   "cell_type": "code",
   "execution_count": 4,
   "id": "3935c186",
   "metadata": {},
   "outputs": [],
   "source": [
    "# Round 5.23222 to two decimal places"
   ]
  },
  {
   "cell_type": "code",
   "execution_count": 29,
   "id": "30cdf29c",
   "metadata": {},
   "outputs": [
    {
     "data": {
      "text/plain": [
       "5.23"
      ]
     },
     "execution_count": 29,
     "metadata": {},
     "output_type": "execute_result"
    }
   ],
   "source": [
    "round(5.23222,2)"
   ]
  },
  {
   "cell_type": "code",
   "execution_count": 7,
   "id": "69a23d67",
   "metadata": {},
   "outputs": [],
   "source": [
    "# Advanced String"
   ]
  },
  {
   "cell_type": "code",
   "execution_count": 8,
   "id": "d43bcdb2",
   "metadata": {},
   "outputs": [],
   "source": [
    "# Problem 3\n",
    "# Check if every letter in the sting s is lower case"
   ]
  },
  {
   "cell_type": "code",
   "execution_count": 30,
   "id": "5c8a49dd",
   "metadata": {},
   "outputs": [
    {
     "data": {
      "text/plain": [
       "False"
      ]
     },
     "execution_count": 30,
     "metadata": {},
     "output_type": "execute_result"
    }
   ],
   "source": [
    "s='hello how are you Mary, are you feeling okay?'\n",
    "s.islower()"
   ]
  },
  {
   "cell_type": "code",
   "execution_count": 9,
   "id": "38232123",
   "metadata": {},
   "outputs": [],
   "source": [
    "# Problem 4\n",
    "# How many times does the letter 'w' shop up in the string below"
   ]
  },
  {
   "cell_type": "code",
   "execution_count": 31,
   "id": "8ba59af8",
   "metadata": {},
   "outputs": [
    {
     "data": {
      "text/plain": [
       "12"
      ]
     },
     "execution_count": 31,
     "metadata": {},
     "output_type": "execute_result"
    }
   ],
   "source": [
    "s='twywywtwywbwhsjhwuwshshshwuwwwjdjdid'\n",
    "s.count('w')"
   ]
  },
  {
   "cell_type": "code",
   "execution_count": 11,
   "id": "637f6d57",
   "metadata": {},
   "outputs": [],
   "source": [
    "# Advanced Sets"
   ]
  },
  {
   "cell_type": "code",
   "execution_count": 12,
   "id": "fbc2b01b",
   "metadata": {},
   "outputs": [],
   "source": [
    "# Problem 5\n",
    "# Find the element in the set1 that are not in set2:"
   ]
  },
  {
   "cell_type": "code",
   "execution_count": 32,
   "id": "3de71ad3",
   "metadata": {},
   "outputs": [
    {
     "data": {
      "text/plain": [
       "{2}"
      ]
     },
     "execution_count": 32,
     "metadata": {},
     "output_type": "execute_result"
    }
   ],
   "source": [
    "set1={2,3,1,5,6,8}\n",
    "set2={3,1,7,5,6,8}\n",
    "set1.difference(set2)"
   ]
  },
  {
   "cell_type": "code",
   "execution_count": 15,
   "id": "d78a4f65",
   "metadata": {},
   "outputs": [],
   "source": [
    "# Problem 6\n",
    "# Find all elements that are in either set:"
   ]
  },
  {
   "cell_type": "code",
   "execution_count": 33,
   "id": "9a31cc17",
   "metadata": {},
   "outputs": [
    {
     "data": {
      "text/plain": [
       "{1, 2, 3, 5, 6, 7, 8}"
      ]
     },
     "execution_count": 33,
     "metadata": {},
     "output_type": "execute_result"
    }
   ],
   "source": [
    "set1.union(set2)"
   ]
  },
  {
   "cell_type": "code",
   "execution_count": 17,
   "id": "76c4807d",
   "metadata": {},
   "outputs": [],
   "source": [
    "# Advanced Dictionaries"
   ]
  },
  {
   "cell_type": "code",
   "execution_count": 18,
   "id": "84627996",
   "metadata": {},
   "outputs": [],
   "source": [
    "# Problem 7:\n",
    "# Create this dictionary using dictionary comprehension"
   ]
  },
  {
   "cell_type": "code",
   "execution_count": 40,
   "id": "cd8a8998",
   "metadata": {},
   "outputs": [
    {
     "data": {
      "text/plain": [
       "{0: 0, 1: 1, 2: 8, 3: 27, 4: 64}"
      ]
     },
     "execution_count": 40,
     "metadata": {},
     "output_type": "execute_result"
    }
   ],
   "source": [
    "s={0:0,1:1,2:8,3:27,4:64}\n",
    "{k:k**3 for k in range(5)}"
   ]
  },
  {
   "cell_type": "code",
   "execution_count": 20,
   "id": "50f887b6",
   "metadata": {},
   "outputs": [],
   "source": [
    "# Advanced List"
   ]
  },
  {
   "cell_type": "code",
   "execution_count": 21,
   "id": "303df5a1",
   "metadata": {},
   "outputs": [],
   "source": [
    "# Problem 8: Reverse the list below"
   ]
  },
  {
   "cell_type": "code",
   "execution_count": 35,
   "id": "e2794dd6",
   "metadata": {},
   "outputs": [
    {
     "data": {
      "text/plain": [
       "[4, 3, 2, 1]"
      ]
     },
     "execution_count": 35,
     "metadata": {},
     "output_type": "execute_result"
    }
   ],
   "source": [
    "l=[1,2,3,4]\n",
    "l.reverse()\n",
    "l"
   ]
  },
  {
   "cell_type": "code",
   "execution_count": 36,
   "id": "060c33c9",
   "metadata": {},
   "outputs": [],
   "source": [
    "# Problem 9: Sort the list below"
   ]
  },
  {
   "cell_type": "code",
   "execution_count": 24,
   "id": "5e22caab",
   "metadata": {},
   "outputs": [],
   "source": [
    "l=[3,4,2,5,1]"
   ]
  },
  {
   "cell_type": "code",
   "execution_count": 38,
   "id": "f89853e1",
   "metadata": {},
   "outputs": [
    {
     "data": {
      "text/plain": [
       "[1, 2, 3, 4]"
      ]
     },
     "execution_count": 38,
     "metadata": {},
     "output_type": "execute_result"
    }
   ],
   "source": [
    "l.sort()\n",
    "l"
   ]
  },
  {
   "cell_type": "code",
   "execution_count": null,
   "id": "181cae0b",
   "metadata": {},
   "outputs": [],
   "source": []
  }
 ],
 "metadata": {
  "kernelspec": {
   "display_name": "Python 3 (ipykernel)",
   "language": "python",
   "name": "python3"
  },
  "language_info": {
   "codemirror_mode": {
    "name": "ipython",
    "version": 3
   },
   "file_extension": ".py",
   "mimetype": "text/x-python",
   "name": "python",
   "nbconvert_exporter": "python",
   "pygments_lexer": "ipython3",
   "version": "3.11.5"
  }
 },
 "nbformat": 4,
 "nbformat_minor": 5
}
