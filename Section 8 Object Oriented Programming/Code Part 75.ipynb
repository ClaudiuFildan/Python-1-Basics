{
 "cells": [
  {
   "cell_type": "code",
   "execution_count": 1,
   "id": "32e2d320",
   "metadata": {},
   "outputs": [],
   "source": [
    "class SimpleClass():\n",
    "    def __init__(self,valuef=0):\n",
    "        self.value=valuef\n",
    "    def add_to_value(self,amount):\n",
    "        self.value=self.value+amount\n",
    "        "
   ]
  },
  {
   "cell_type": "code",
   "execution_count": 3,
   "id": "a000bb1c",
   "metadata": {},
   "outputs": [],
   "source": [
    "obj=SimpleClass(200)"
   ]
  },
  {
   "cell_type": "code",
   "execution_count": 4,
   "id": "797da5ff",
   "metadata": {},
   "outputs": [
    {
     "data": {
      "text/plain": [
       "200"
      ]
     },
     "execution_count": 4,
     "metadata": {},
     "output_type": "execute_result"
    }
   ],
   "source": [
    "obj.value"
   ]
  },
  {
   "cell_type": "code",
   "execution_count": 5,
   "id": "46abc93a",
   "metadata": {},
   "outputs": [],
   "source": [
    "obj.add_to_value(500)"
   ]
  },
  {
   "cell_type": "code",
   "execution_count": 6,
   "id": "4725e1cd",
   "metadata": {},
   "outputs": [
    {
     "data": {
      "text/plain": [
       "700"
      ]
     },
     "execution_count": 6,
     "metadata": {},
     "output_type": "execute_result"
    }
   ],
   "source": [
    "obj.value"
   ]
  },
  {
   "cell_type": "code",
   "execution_count": null,
   "id": "ca7cd45d",
   "metadata": {},
   "outputs": [],
   "source": []
  }
 ],
 "metadata": {
  "kernelspec": {
   "display_name": "Python 3 (ipykernel)",
   "language": "python",
   "name": "python3"
  },
  "language_info": {
   "codemirror_mode": {
    "name": "ipython",
    "version": 3
   },
   "file_extension": ".py",
   "mimetype": "text/x-python",
   "name": "python",
   "nbconvert_exporter": "python",
   "pygments_lexer": "ipython3",
   "version": "3.11.5"
  }
 },
 "nbformat": 4,
 "nbformat_minor": 5
}
