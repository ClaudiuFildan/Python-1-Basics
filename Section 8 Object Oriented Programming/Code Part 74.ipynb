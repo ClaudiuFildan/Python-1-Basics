{
 "cells": [
  {
   "cell_type": "code",
   "execution_count": 2,
   "id": "f8dcc8ba",
   "metadata": {},
   "outputs": [],
   "source": [
    "# Problem 1\n",
    "# Fill in the line class methods to accept coordinates as a pair of tuples\n",
    "# and return the slope and distance of the line"
   ]
  },
  {
   "cell_type": "code",
   "execution_count": 23,
   "id": "c25211fa",
   "metadata": {},
   "outputs": [],
   "source": [
    "class Line:\n",
    "    def __init__(self,coor1,coor2):\n",
    "        self.coor1=coor1\n",
    "        self.coor2=coor2\n",
    "        \n",
    "    def distance(self):\n",
    "        x1,y1=self.coor1\n",
    "        x2,y2=self.coor2\n",
    "        return ((x2-x1)**2+(y2-y1)**2)**(1/2)\n",
    "    \n",
    "    def slope(self):\n",
    "        x1,y1=self.coor1\n",
    "        x2,y2=self.coor2\n",
    "        return (y2-y1)/(x2-x1)\n",
    "    "
   ]
  },
  {
   "cell_type": "code",
   "execution_count": 26,
   "id": "352e477a",
   "metadata": {},
   "outputs": [
    {
     "data": {
      "text/plain": [
       "9.433981132056603"
      ]
     },
     "execution_count": 26,
     "metadata": {},
     "output_type": "execute_result"
    }
   ],
   "source": [
    "# Example Output\n",
    "c1=(3,2)\n",
    "c2=(8,10)\n",
    "myline=Line(c1,c2)\n",
    "myline.distance()"
   ]
  },
  {
   "cell_type": "code",
   "execution_count": 27,
   "id": "7845b654",
   "metadata": {},
   "outputs": [
    {
     "data": {
      "text/plain": [
       "1.6"
      ]
     },
     "execution_count": 27,
     "metadata": {},
     "output_type": "execute_result"
    }
   ],
   "source": [
    "myline.slope()"
   ]
  },
  {
   "cell_type": "code",
   "execution_count": 8,
   "id": "44f9a516",
   "metadata": {},
   "outputs": [],
   "source": [
    "# Problem 2\\\n",
    "# Fillin the class"
   ]
  },
  {
   "cell_type": "code",
   "execution_count": 35,
   "id": "095ae739",
   "metadata": {},
   "outputs": [],
   "source": [
    "class Cylinder:\n",
    "    def __init__(self,height=1,radius=1):\n",
    "        self.height=height\n",
    "        self.radius=radius\n",
    "        \n",
    "    def volume(self):\n",
    "        return self.height*3.14*(self.radius)**2\n",
    "    def surface_area(self):\n",
    "        top=3.14*(self.radius**2)\n",
    "        return (2*top)+(2*3.14*self.radius*self.height)"
   ]
  },
  {
   "cell_type": "code",
   "execution_count": 36,
   "id": "a3d924f9",
   "metadata": {},
   "outputs": [],
   "source": [
    "# EXAMPLE OUTPUT\n",
    "c=Cylinder(2,3)"
   ]
  },
  {
   "cell_type": "code",
   "execution_count": 37,
   "id": "f0fd72e3",
   "metadata": {},
   "outputs": [
    {
     "data": {
      "text/plain": [
       "56.52"
      ]
     },
     "execution_count": 37,
     "metadata": {},
     "output_type": "execute_result"
    }
   ],
   "source": [
    "c.volume()"
   ]
  },
  {
   "cell_type": "code",
   "execution_count": 38,
   "id": "c54ef7be",
   "metadata": {},
   "outputs": [
    {
     "data": {
      "text/plain": [
       "94.2"
      ]
     },
     "execution_count": 38,
     "metadata": {},
     "output_type": "execute_result"
    }
   ],
   "source": [
    "c.surface_area()"
   ]
  },
  {
   "cell_type": "code",
   "execution_count": null,
   "id": "6e7e3b6d",
   "metadata": {},
   "outputs": [],
   "source": []
  }
 ],
 "metadata": {
  "kernelspec": {
   "display_name": "Python 3 (ipykernel)",
   "language": "python",
   "name": "python3"
  },
  "language_info": {
   "codemirror_mode": {
    "name": "ipython",
    "version": 3
   },
   "file_extension": ".py",
   "mimetype": "text/x-python",
   "name": "python",
   "nbconvert_exporter": "python",
   "pygments_lexer": "ipython3",
   "version": "3.11.5"
  }
 },
 "nbformat": 4,
 "nbformat_minor": 5
}
