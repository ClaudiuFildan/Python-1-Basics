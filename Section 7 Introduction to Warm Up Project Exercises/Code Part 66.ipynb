{
 "cells": [
  {
   "cell_type": "code",
   "execution_count": 1,
   "id": "b8bf7bb1",
   "metadata": {},
   "outputs": [],
   "source": [
    "# Step 1\n",
    "from IPython.display import clear_output\n",
    "\n",
    "test_board=['#','X','O','X','O','X','O','X','O','X']\n",
    "\n",
    "def display_board(board):\n",
    "    clear_output() # Remember, this only works in jupyter!\n",
    "    \n",
    "    print('   |   |')\n",
    "    print(' ' + board[7] + ' | ' + board[8] + ' | '+ board[9])\n",
    "    print('   |   |')\n",
    "    print('-----------')\n",
    "    \n",
    "    print('   |   |')\n",
    "    print(' ' + board[4] + ' | ' + board[5] + ' | '+ board[6])\n",
    "    print('   |   |')\n",
    "    print('-----------')\n",
    "    \n",
    "    print('   |   |')\n",
    "    print(' ' + board[1] + ' | ' + board[2] + ' | '+ board[3])\n",
    "    print('   |   |')\n"
   ]
  },
  {
   "cell_type": "code",
   "execution_count": 2,
   "id": "6813001d",
   "metadata": {},
   "outputs": [
    {
     "name": "stdout",
     "output_type": "stream",
     "text": [
      "   |   |\n",
      " X | O | X\n",
      "   |   |\n",
      "-----------\n",
      "   |   |\n",
      " O | X | O\n",
      "   |   |\n",
      "-----------\n",
      "   |   |\n",
      " X | O | X\n",
      "   |   |\n"
     ]
    }
   ],
   "source": [
    "# Test Step 1\n",
    "# test_board=['#','X','O','X','O','X','O','X','O','X']\n",
    "display_board(test_board)\n"
   ]
  },
  {
   "cell_type": "code",
   "execution_count": 3,
   "id": "a6b26343",
   "metadata": {},
   "outputs": [],
   "source": [
    "# Step 2\n",
    "def player_input():\n",
    "    '''\n",
    "    OUTPUT=(Player 1 marker, Player 2 marker)\n",
    "    '''\n",
    "    marker = ''\n",
    "    \n",
    "    while not (marker =='X' or marker =='O'):\n",
    "        marker=input('Player 1, choose X or O: ').upper()\n",
    "        \n",
    "    if marker =='X':\n",
    "        return ('X','O')\n",
    "    else:\n",
    "        return ('O','X')           \n",
    "        "
   ]
  },
  {
   "cell_type": "code",
   "execution_count": 4,
   "id": "0da75ee6",
   "metadata": {},
   "outputs": [
    {
     "name": "stdout",
     "output_type": "stream",
     "text": [
      "Player 1, choose X or O: \n",
      "Player 1, choose X or O: x\n"
     ]
    },
    {
     "data": {
      "text/plain": [
       "('X', 'O')"
      ]
     },
     "execution_count": 4,
     "metadata": {},
     "output_type": "execute_result"
    }
   ],
   "source": [
    "# Test Step 2\n",
    "player_input()"
   ]
  },
  {
   "cell_type": "code",
   "execution_count": 5,
   "id": "fc046389",
   "metadata": {},
   "outputs": [],
   "source": [
    "# Step 3\n",
    "def place_marker(board,marker,position):\n",
    "    board[position]=marker"
   ]
  },
  {
   "cell_type": "code",
   "execution_count": 6,
   "id": "5a3b88ff",
   "metadata": {},
   "outputs": [
    {
     "name": "stdout",
     "output_type": "stream",
     "text": [
      "   |   |\n",
      " X | $ | X\n",
      "   |   |\n",
      "-----------\n",
      "   |   |\n",
      " O | X | O\n",
      "   |   |\n",
      "-----------\n",
      "   |   |\n",
      " X | O | X\n",
      "   |   |\n"
     ]
    }
   ],
   "source": [
    "# Test Step 3\n",
    "place_marker(test_board,'$',8)\n",
    "display_board(test_board)"
   ]
  },
  {
   "cell_type": "code",
   "execution_count": 7,
   "id": "8a2f4105",
   "metadata": {},
   "outputs": [],
   "source": [
    "def win_check(board, mark):\n",
    "\n",
    "    # WIN TIC TAC TOE?\n",
    "    \n",
    "    return ((board[7]==mark and board[8]==mark and board[9]==mark) or # across the top\n",
    "    (board[4]==board[5]==board[6]==mark) or # across the middle\n",
    "    (board[1]==board[2]==board[3]==mark) or # across the bottom\n",
    "    (board[7]==board[4]==board[1]==mark) or # down the left side\n",
    "    (board[8]==board[5]==board[2]==mark) or # down the middle\n",
    "    (board[9]==board[6]==board[3]==mark) or # down the right side\n",
    "    (board[7]==board[5]==board[3]==mark) or # diagonal\n",
    "    (board[9]==board[5]==board[1]==mark)) # diagonal\n",
    "    "
   ]
  },
  {
   "cell_type": "code",
   "execution_count": 8,
   "id": "197f8f35",
   "metadata": {},
   "outputs": [
    {
     "name": "stdout",
     "output_type": "stream",
     "text": [
      "   |   |\n",
      " X | $ | X\n",
      "   |   |\n",
      "-----------\n",
      "   |   |\n",
      " O | X | O\n",
      "   |   |\n",
      "-----------\n",
      "   |   |\n",
      " X | O | X\n",
      "   |   |\n"
     ]
    },
    {
     "data": {
      "text/plain": [
       "True"
      ]
     },
     "execution_count": 8,
     "metadata": {},
     "output_type": "execute_result"
    }
   ],
   "source": [
    "# Test Step 4\n",
    "display_board(test_board)\n",
    "win_check(test_board,'X')"
   ]
  },
  {
   "cell_type": "code",
   "execution_count": 9,
   "id": "1a4e7ec1",
   "metadata": {},
   "outputs": [],
   "source": [
    "# Step 5\n",
    "import random\n",
    "\n",
    "def choose_first():\n",
    "    \n",
    "    flip=random.randint(0,1)\n",
    "    if flip==0:\n",
    "        return 'Player 2'\n",
    "    else:\n",
    "        return 'Player 1'"
   ]
  },
  {
   "cell_type": "code",
   "execution_count": 10,
   "id": "0d4357e9",
   "metadata": {},
   "outputs": [],
   "source": [
    "# Step 6 \n",
    "def space_check(board,position):\n",
    "    return board[position]== ' '\n"
   ]
  },
  {
   "cell_type": "code",
   "execution_count": 11,
   "id": "c2ab82d0",
   "metadata": {},
   "outputs": [],
   "source": [
    "# Step 7\n",
    "def full_board_check(board):\n",
    "    for i in range(1,10):\n",
    "        if space_check(board,i):\n",
    "            return False\n",
    "    # BOARD IS FULL IS WE RETURN TRUE      \n",
    "    return True\n",
    "       "
   ]
  },
  {
   "cell_type": "code",
   "execution_count": 12,
   "id": "d61e6d0f",
   "metadata": {},
   "outputs": [],
   "source": [
    "# Step 8\n",
    "def player_choise(board):\n",
    "    position=0\n",
    "    \n",
    "    while position not in [1,2,3,4,5,6,7,8,9] or not space_check(board,position):\n",
    "        position=int(input('Choose a position: (1-9) '))\n",
    "    return position"
   ]
  },
  {
   "cell_type": "code",
   "execution_count": 13,
   "id": "09fe4d81",
   "metadata": {},
   "outputs": [],
   "source": [
    "# Step 9\n",
    "def replay():\n",
    "    choise=input(\"Play again ? Enter Yes or No? \").lower()\n",
    "    return choise =='Yes'"
   ]
  },
  {
   "cell_type": "code",
   "execution_count": 14,
   "id": "feb99a2e",
   "metadata": {},
   "outputs": [
    {
     "name": "stdout",
     "output_type": "stream",
     "text": [
      "   |   |\n",
      " X | O | O\n",
      "   |   |\n",
      "-----------\n",
      "   |   |\n",
      " X | O | X\n",
      "   |   |\n",
      "-----------\n",
      "   |   |\n",
      " O | X | O\n",
      "   |   |\n",
      "PLAYER 2 HAS WON!\n",
      "Play again ? Enter Yes or No? yes\n"
     ]
    }
   ],
   "source": [
    "#WHILE LOOP TO KEEP RUNNING THE GAME\n",
    "print('Welcome to Tic Tac Toe')\n",
    "\n",
    "while True:\n",
    "    \n",
    "    # PLAY THE GAME\n",
    "    # SET EVERYTHING UP (BOARD, WHOS FIRST, CHOOSE MARKERS X,O)\n",
    "    the_board=[' ']*10\n",
    "    player1_marker,player2_marker=player_input()\n",
    "    \n",
    "    turn=choose_first()\n",
    "    print(turn+' will go first.')\n",
    "        \n",
    "    play_game=input('Ready to play? yes or no?' ).lower()\n",
    "    \n",
    "    if play_game=='yes':\n",
    "        game_on=True\n",
    "    else:\n",
    "        \n",
    "        game_on=False\n",
    "        \n",
    "    ## GAME PLAY\n",
    "    \n",
    "    while game_on:\n",
    "        if turn=='Player 1':\n",
    "            \n",
    "            #Show the board\n",
    "            display_board(the_board)\n",
    "            \n",
    "            # Choose a position \n",
    "            position=player_choise(the_board)\n",
    "            \n",
    "            # Place  themarker on the position \n",
    "            place_marker(the_board,player1_marker,position)\n",
    "            \n",
    "            # Check if they won\n",
    "            if win_check(the_board,player1_marker):\n",
    "                display_board(the_board)\n",
    "                print('PLAYER 1 HAS WON!')\n",
    "                game_on=False\n",
    "            else:\n",
    "                # Or check if there is a tie\n",
    "                # No tie andno win ? Thennext player's turn \n",
    "                if full_board_check(the_board):\n",
    "                    display_board(the_board)\n",
    "                    print(\"TIE GAME!\")\n",
    "                    game_on=False\n",
    "                    #break\n",
    "                else:\n",
    "                    turn='Player 2' \n",
    "        else:  \n",
    "            # Show the board\n",
    "            display_board(the_board)\n",
    "            # Choose a position \n",
    "            position=player_choise(the_board)\n",
    "            # Place  themarker on the position \n",
    "            place_marker(the_board,player2_marker, position)\n",
    "            # Check if they won\n",
    "            if win_check(the_board,player2_marker):\n",
    "                display_board(the_board)\n",
    "                print('PLAYER 2 HAS WON!')\n",
    "                game_on=False\n",
    "            else:\n",
    "                # Or check if there is a tie\n",
    "                # No tie andno win ? Thennext player's turn \n",
    "                if full_board_check(the_board):\n",
    "                    display_board(the_board)\n",
    "                    print(\"TIE GAME!\")\n",
    "                    game_on=False\n",
    "                    #break\n",
    "                else:\n",
    "                    turn='Player 1' \n",
    "    \n",
    "    if not replay():\n",
    "        break\n",
    "    # BREAK OUT OF THE WHILE LOOP ON replay ()    "
   ]
  },
  {
   "cell_type": "code",
   "execution_count": null,
   "id": "6e2c735d",
   "metadata": {},
   "outputs": [],
   "source": []
  }
 ],
 "metadata": {
  "kernelspec": {
   "display_name": "Python 3 (ipykernel)",
   "language": "python",
   "name": "python3"
  },
  "language_info": {
   "codemirror_mode": {
    "name": "ipython",
    "version": 3
   },
   "file_extension": ".py",
   "mimetype": "text/x-python",
   "name": "python",
   "nbconvert_exporter": "python",
   "pygments_lexer": "ipython3",
   "version": "3.11.5"
  }
 },
 "nbformat": 4,
 "nbformat_minor": 5
}
