{
 "cells": [
  {
   "cell_type": "code",
   "execution_count": 27,
   "id": "5fc91500",
   "metadata": {},
   "outputs": [],
   "source": [
    "# Step 1\n",
    "# Write a function that can print out  a board. Set up your board as a list,\n",
    "# where each index 1-9 corresponds with a number on a number pad, so you get \n",
    "# a 3 by 3 board representation\n",
    "\n",
    "from IPython.display import clear_output\n",
    "\n",
    "def display_board(board):\n",
    "    clear_output()\n",
    "    print(board[7]+'|'+board[8]+'|'+board[9])\n",
    "    print(board[4]+'|'+board[5]+'|'+board[6])\n",
    "    print(board[1]+'|'+board[2]+'|'+board[3])\n",
    "    "
   ]
  },
  {
   "cell_type": "code",
   "execution_count": 28,
   "id": "fee3a67e",
   "metadata": {},
   "outputs": [
    {
     "name": "stdout",
     "output_type": "stream",
     "text": [
      "||\n",
      "||\n",
      "||\n"
     ]
    }
   ],
   "source": [
    "# Test Step 1\n",
    "#test_board=['#','X','O','X','O','X','O','X','O','X']\n",
    "test_board=['']*10\n",
    "display_board(test_board)"
   ]
  },
  {
   "cell_type": "code",
   "execution_count": 31,
   "id": "7d3ba188",
   "metadata": {},
   "outputs": [],
   "source": [
    "# Step 2\n",
    "# Write a function that can take in a player input and assign their marker as 'X' or 'O'\n",
    "# Think about using while loops to continually ask until you get a correct answer\n",
    "def player_input():\n",
    "    marker=''\n",
    "    # KEEP ASKING PLAYER 1 to choose X or O\n",
    "    while marker !='X' and marker !='O':\n",
    "        marker=input('Player 1, choose X or O: ')\n",
    "        \n",
    "    # ASSIGN PLAYER 2, the opposite marker\n",
    "    player1=marker\n",
    "    \n",
    "    if player1=='X':\n",
    "        player2='O'\n",
    "    else:\n",
    "        player2='X'\n",
    "    return (player1,player2)    "
   ]
  },
  {
   "cell_type": "code",
   "execution_count": 33,
   "id": "86d96dc8",
   "metadata": {},
   "outputs": [
    {
     "name": "stdout",
     "output_type": "stream",
     "text": [
      "Player 1, choose X or O: O\n"
     ]
    }
   ],
   "source": [
    "# Test Step 2\n",
    "player1_marker,player2_marker=player_input()"
   ]
  },
  {
   "cell_type": "code",
   "execution_count": 7,
   "id": "b9844266",
   "metadata": {},
   "outputs": [],
   "source": [
    "# Step 3\n",
    "# Write a function that takes in the board list object, a marker ('X' or 'O'), and\n",
    "# a desired position (number 1-9) and "
   ]
  },
  {
   "cell_type": "code",
   "execution_count": 8,
   "id": "ed238b37",
   "metadata": {},
   "outputs": [],
   "source": [
    "def place_marker(board, marker, position):\n",
    "    pass"
   ]
  },
  {
   "cell_type": "code",
   "execution_count": 9,
   "id": "4db23711",
   "metadata": {},
   "outputs": [
    {
     "ename": "NameError",
     "evalue": "name 'test_board' is not defined",
     "output_type": "error",
     "traceback": [
      "\u001b[1;31m---------------------------------------------------------------------------\u001b[0m",
      "\u001b[1;31mNameError\u001b[0m                                 Traceback (most recent call last)",
      "Cell \u001b[1;32mIn[9], line 2\u001b[0m\n\u001b[0;32m      1\u001b[0m \u001b[38;5;66;03m# Test Step 3\u001b[39;00m\n\u001b[1;32m----> 2\u001b[0m place_marker(test_board,\u001b[38;5;124m'\u001b[39m\u001b[38;5;124m$\u001b[39m\u001b[38;5;124m'\u001b[39m,\u001b[38;5;241m8\u001b[39m)\n\u001b[0;32m      3\u001b[0m display_board(test_board)\n",
      "\u001b[1;31mNameError\u001b[0m: name 'test_board' is not defined"
     ]
    }
   ],
   "source": [
    "# Test Step 3\n",
    "place_marker(test_board,'$',8)\n",
    "display_board(test_board)"
   ]
  },
  {
   "cell_type": "code",
   "execution_count": 10,
   "id": "9c56419c",
   "metadata": {},
   "outputs": [],
   "source": [
    "# Step 4\n",
    "# Write a function that takes in a board and a mark (X or O) and then checks to see\n",
    "# if that mark has won \n",
    "def win_check(board, mark):\n",
    "    pass"
   ]
  },
  {
   "cell_type": "code",
   "execution_count": 11,
   "id": "b2865496",
   "metadata": {},
   "outputs": [
    {
     "ename": "NameError",
     "evalue": "name 'test_board' is not defined",
     "output_type": "error",
     "traceback": [
      "\u001b[1;31m---------------------------------------------------------------------------\u001b[0m",
      "\u001b[1;31mNameError\u001b[0m                                 Traceback (most recent call last)",
      "Cell \u001b[1;32mIn[11], line 2\u001b[0m\n\u001b[0;32m      1\u001b[0m \u001b[38;5;66;03m# Test Step 4\u001b[39;00m\n\u001b[1;32m----> 2\u001b[0m win_check(test_board,\u001b[38;5;124m'\u001b[39m\u001b[38;5;124mX\u001b[39m\u001b[38;5;124m'\u001b[39m)\n",
      "\u001b[1;31mNameError\u001b[0m: name 'test_board' is not defined"
     ]
    }
   ],
   "source": [
    "# Test Step 4\n",
    "win_check(test_board,'X')"
   ]
  },
  {
   "cell_type": "code",
   "execution_count": null,
   "id": "2dbbb350",
   "metadata": {},
   "outputs": [],
   "source": [
    "# Step 5\n",
    "# Write a functioon that uses the random module to randomly decide\n",
    "# which player goes first. You may want to lookup random.randint()\n",
    "# Return a string of which player went first.\n"
   ]
  }
 ],
 "metadata": {
  "kernelspec": {
   "display_name": "Python 3 (ipykernel)",
   "language": "python",
   "name": "python3"
  },
  "language_info": {
   "codemirror_mode": {
    "name": "ipython",
    "version": 3
   },
   "file_extension": ".py",
   "mimetype": "text/x-python",
   "name": "python",
   "nbconvert_exporter": "python",
   "pygments_lexer": "ipython3",
   "version": "3.11.5"
  }
 },
 "nbformat": 4,
 "nbformat_minor": 5
}
