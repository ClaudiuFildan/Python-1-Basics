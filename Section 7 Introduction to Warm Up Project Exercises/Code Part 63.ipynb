{
 "cells": [
  {
   "cell_type": "code",
   "execution_count": 51,
   "id": "d0f38e1d",
   "metadata": {},
   "outputs": [],
   "source": [
    "game_list=[0,1,2]\n",
    "def display_game(game_list):\n",
    "    print(\"Here is the current list:\")\n",
    "    print(game_list)"
   ]
  },
  {
   "cell_type": "code",
   "execution_count": 49,
   "id": "d2d1808e",
   "metadata": {},
   "outputs": [
    {
     "name": "stdout",
     "output_type": "stream",
     "text": [
      "Here is the current list\n",
      "[0, 1, 2]\n"
     ]
    }
   ],
   "source": [
    "display_game(game_list)"
   ]
  },
  {
   "cell_type": "code",
   "execution_count": 52,
   "id": "cc63fe83",
   "metadata": {},
   "outputs": [],
   "source": [
    "def position_choise():\n",
    "    # This original choise value can be anyhting that is not an integer\n",
    "    choice='Wrong'\n",
    "    \n",
    "    # While the choise is not a digit, keep asking for input\n",
    "    while choice not in ['0','1','2']:\n",
    "        \n",
    "        # We should not convert here, otherwise we get an error ona wrong input\n",
    "        choice=input(\"Pick a position to replace (0,1,2): \")  \n",
    "        \n",
    "        if choice not in ['0','1','2']:\n",
    "            # THIS CLEARS THE CURRENT OUTPUT BELOW THE CELL\n",
    "            # clear_output()\n",
    "            print(\"Sorry, but you did not choose a valid position (0,1,2)\")\n",
    "    \n",
    "    # Optionally you can clear everything after running the function\n",
    "    # clear_output()\n",
    "    \n",
    "    # We can convert once the while Loop above has confirmed we have a digit\n",
    "    return int(choice)\n"
   ]
  },
  {
   "cell_type": "code",
   "execution_count": 54,
   "id": "315a5ffe",
   "metadata": {},
   "outputs": [
    {
     "name": "stdout",
     "output_type": "stream",
     "text": [
      "Pick a position to replace (0,1,2): two\n",
      "Sorry, but you did not choose a valid position (0,1,2)\n",
      "Pick a position to replace (0,1,2): 24\n",
      "Sorry, but you did not choose a valid position (0,1,2)\n",
      "Pick a position to replace (0,1,2): 1\n"
     ]
    },
    {
     "data": {
      "text/plain": [
       "1"
      ]
     },
     "execution_count": 54,
     "metadata": {},
     "output_type": "execute_result"
    }
   ],
   "source": [
    "position_choise()"
   ]
  },
  {
   "cell_type": "code",
   "execution_count": 55,
   "id": "c7340a08",
   "metadata": {},
   "outputs": [],
   "source": [
    "def replacement_choise(game_list,position):\n",
    "    user_placement=input(\"Type a string to place at position:\")\n",
    "    game_list[position]=user_placement\n",
    "    \n",
    "    return game_list"
   ]
  },
  {
   "cell_type": "code",
   "execution_count": 56,
   "id": "be87fc01",
   "metadata": {},
   "outputs": [
    {
     "name": "stdout",
     "output_type": "stream",
     "text": [
      "Type a string to place at position:Ana\n"
     ]
    },
    {
     "data": {
      "text/plain": [
       "[0, 'Ana', 2]"
      ]
     },
     "execution_count": 56,
     "metadata": {},
     "output_type": "execute_result"
    }
   ],
   "source": [
    "replacement_choise(game_list,1)"
   ]
  },
  {
   "cell_type": "code",
   "execution_count": 57,
   "id": "bed2652c",
   "metadata": {},
   "outputs": [],
   "source": [
    "def gameon_choise():\n",
    "    \n",
    "    #This original choise value can be anythingthat is not a Y and N\n",
    "    choice='wrong'\n",
    "    \n",
    "    # While the choice is not a digit, keep asking for input.\n",
    "    while choice not in ['Y','N']:\n",
    "        \n",
    "        # we should not convert here, otherwise we get an error on a wrong input\n",
    "        choice=input(\"Would you like to keep playing? (Y or N) \")\n",
    "        \n",
    "        if choice not in ['Y','N']:\n",
    "            # THIS CLEARS THE CURRENT  OUTPUT BELOW THE CELL\n",
    "            # clear_output()\n",
    "            print(\"Sorry, I did not understand. Please make sure to choose Y or N.\")\n",
    "            \n",
    "    # Optionally you can clear everythingafter running the function \n",
    "    # clear_output()\n",
    "    \n",
    "    if choice=='Y':\n",
    "        # Game is still on\n",
    "        return True\n",
    "    else:\n",
    "        # Game is over\n",
    "        return False"
   ]
  },
  {
   "cell_type": "code",
   "execution_count": 59,
   "id": "8e05dc4a",
   "metadata": {},
   "outputs": [
    {
     "name": "stdout",
     "output_type": "stream",
     "text": [
      "Would you like to keep playing? (Y or N) wrong\n",
      "Sorry, I did not understand. Please make sure to choose Y or N.\n",
      "Would you like to keep playing? (Y or N) n\n",
      "Sorry, I did not understand. Please make sure to choose Y or N.\n",
      "Would you like to keep playing? (Y or N) N\n"
     ]
    },
    {
     "data": {
      "text/plain": [
       "False"
      ]
     },
     "execution_count": 59,
     "metadata": {},
     "output_type": "execute_result"
    }
   ],
   "source": [
    "gameon_choise()"
   ]
  },
  {
   "cell_type": "code",
   "execution_count": 50,
   "id": "47db08f8",
   "metadata": {},
   "outputs": [
    {
     "name": "stdout",
     "output_type": "stream",
     "text": [
      "Here is the current list\n",
      "[0, 1, 2]\n",
      "Pick a position to replace (0,1,2): 4\n",
      "Sorry, but you did not choose a valid position (0,1,2)\n",
      "Pick a position to replace (0,1,2): 5\n",
      "Sorry, but you did not choose a valid position (0,1,2)\n",
      "Pick a position to replace (0,1,2): 0\n",
      "Type a string to place at the positionAna\n",
      "Here is the current list\n",
      "['Ana', 1, 2]\n",
      "Would you like to keep playing? Y or N y\n",
      "Sorry, I did not understand. Please make sureto choose Y or N.\n",
      "Would you like to keep playing? Y or N Y\n",
      "Here is the current list\n",
      "['Ana', 1, 2]\n",
      "Pick a position to replace (0,1,2): 1\n",
      "Type a string to place at the positionare\n",
      "Here is the current list\n",
      "['Ana', 'are', 2]\n",
      "Would you like to keep playing? Y or N Y\n",
      "Here is the current list\n",
      "['Ana', 'are', 2]\n",
      "Pick a position to replace (0,1,2): 2\n",
      "Type a string to place at the positionMere\n",
      "Here is the current list\n",
      "['Ana', 'are', 'Mere']\n",
      "Would you like to keep playing? Y or N Y\n",
      "Here is the current list\n",
      "['Ana', 'are', 'Mere']\n",
      "Pick a position to replace (0,1,2): 2\n",
      "Type a string to place at the positionmere\n",
      "Here is the current list\n",
      "['Ana', 'are', 'mere']\n",
      "Would you like to keep playing? Y or N n\n",
      "Sorry, I did not understand. Please make sureto choose Y or N.\n",
      "Would you like to keep playing? Y or N N\n"
     ]
    }
   ],
   "source": [
    "# Variable to keep game playing\n",
    "game_on=True\n",
    "\n",
    "# First Game List\n",
    "game_list=[0,1,2]\n",
    "\n",
    "while game_on: # game_on==True\n",
    "    # Clear any historical output and show the game list\n",
    "    #clear_output()\n",
    "    display_game(game_list)\n",
    "    \n",
    "    # Have player choose position\n",
    "    position=position_choise()\n",
    "    \n",
    "    # Rewrite that position and update game_list\n",
    "    game_list=replacement_choise(game_list,position)\n",
    "    \n",
    "    \n",
    "    # Clear Screen and show the updated game list\n",
    "    #clear_output()\n",
    "    display_game(game_list)\n",
    "    \n",
    "    # Ask if you want to keep playing\n",
    "    game_on=gameon_choise()\n",
    "    "
   ]
  },
  {
   "cell_type": "code",
   "execution_count": null,
   "id": "3b7aad2e",
   "metadata": {},
   "outputs": [],
   "source": []
  }
 ],
 "metadata": {
  "kernelspec": {
   "display_name": "Python 3 (ipykernel)",
   "language": "python",
   "name": "python3"
  },
  "language_info": {
   "codemirror_mode": {
    "name": "ipython",
    "version": 3
   },
   "file_extension": ".py",
   "mimetype": "text/x-python",
   "name": "python",
   "nbconvert_exporter": "python",
   "pygments_lexer": "ipython3",
   "version": "3.11.5"
  }
 },
 "nbformat": 4,
 "nbformat_minor": 5
}
