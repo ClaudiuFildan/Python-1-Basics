{
 "cells": [
  {
   "cell_type": "code",
   "execution_count": 1,
   "id": "dc7e63e7",
   "metadata": {},
   "outputs": [],
   "source": [
    "import imaplib"
   ]
  },
  {
   "cell_type": "code",
   "execution_count": 2,
   "id": "44ef22b2",
   "metadata": {},
   "outputs": [],
   "source": [
    "M=imaplib.IMAP4_SSL('imap.gmail.com')"
   ]
  },
  {
   "cell_type": "code",
   "execution_count": 4,
   "id": "61097222",
   "metadata": {},
   "outputs": [],
   "source": [
    "import getpass"
   ]
  },
  {
   "cell_type": "code",
   "execution_count": null,
   "id": "224b24ef",
   "metadata": {},
   "outputs": [],
   "source": [
    "# The app password"
   ]
  },
  {
   "cell_type": "code",
   "execution_count": 5,
   "id": "71a81045",
   "metadata": {},
   "outputs": [
    {
     "name": "stdout",
     "output_type": "stream",
     "text": [
      "Email: ········\n",
      "Password:········\n"
     ]
    }
   ],
   "source": [
    "email=getpass.getpass(\"Email: \")\n",
    "password=getpass.getpass('Password:')"
   ]
  },
  {
   "cell_type": "code",
   "execution_count": 6,
   "id": "a05ad1b6",
   "metadata": {},
   "outputs": [
    {
     "data": {
      "text/plain": [
       "('OK', [b'cld.fldn@gmail.com authenticated (Success)'])"
      ]
     },
     "execution_count": 6,
     "metadata": {},
     "output_type": "execute_result"
    }
   ],
   "source": [
    "M.login(email,password)"
   ]
  },
  {
   "cell_type": "code",
   "execution_count": 7,
   "id": "4806cd9e",
   "metadata": {},
   "outputs": [
    {
     "data": {
      "text/plain": [
       "('OK',\n",
       " [b'(\\\\HasChildren) \"/\" \"Acomodation\"',\n",
       "  b'(\\\\HasNoChildren) \"/\" \"Acomodation/AirBnB\"',\n",
       "  b'(\\\\HasNoChildren) \"/\" \"Acomodation/Booking.com\"',\n",
       "  b'(\\\\HasNoChildren) \"/\" \"Erasmus Projects\"',\n",
       "  b'(\\\\HasChildren) \"/\" \"Groups\"',\n",
       "  b'(\\\\HasNoChildren) \"/\" \"Groups/Best\"',\n",
       "  b'(\\\\HasNoChildren) \"/\" \"Groups/Esn\"',\n",
       "  b'(\\\\HasNoChildren) \"/\" \"Groups/Eurotrip\"',\n",
       "  b'(\\\\HasNoChildren) \"/\" \"INBOX\"',\n",
       "  b'(\\\\HasNoChildren) \"/\" \"Online Shopping\"',\n",
       "  b'(\\\\HasChildren) \"/\" \"Planes\"',\n",
       "  b'(\\\\HasNoChildren) \"/\" \"Planes/Kiwi\"',\n",
       "  b'(\\\\HasNoChildren) \"/\" \"Planes/Lufthansa\"',\n",
       "  b'(\\\\HasNoChildren) \"/\" \"Planes/Ryanair\"',\n",
       "  b'(\\\\HasNoChildren) \"/\" \"Planes/Tarom\"',\n",
       "  b'(\\\\HasNoChildren) \"/\" \"Tickets\"',\n",
       "  b'(\\\\HasNoChildren) \"/\" \"Transport\"',\n",
       "  b'(\\\\HasChildren) \"/\" \"Transport Emails\"',\n",
       "  b'(\\\\HasNoChildren) \"/\" \"Transport Emails/Bolt\"',\n",
       "  b'(\\\\HasNoChildren) \"/\" \"Transport Emails/Bus\"',\n",
       "  b'(\\\\HasNoChildren) \"/\" \"Transport Emails/Czech Railway\"',\n",
       "  b'(\\\\HasNoChildren) \"/\" \"Transport Emails/FlixBus\"',\n",
       "  b'(\\\\HasNoChildren) \"/\" \"Transport Emails/Regiojet\"',\n",
       "  b'(\\\\HasNoChildren) \"/\" \"Transport Emails/TaxiMe\"',\n",
       "  b'(\\\\HasNoChildren) \"/\" \"Transport Emails/Trains\"',\n",
       "  b'(\\\\HasChildren \\\\Noselect) \"/\" \"[Gmail]\"',\n",
       "  b'(\\\\All \\\\HasNoChildren) \"/\" \"[Gmail]/All Mail\"',\n",
       "  b'(\\\\HasNoChildren \\\\Trash) \"/\" \"[Gmail]/Bin\"',\n",
       "  b'(\\\\Drafts \\\\HasNoChildren) \"/\" \"[Gmail]/Drafts\"',\n",
       "  b'(\\\\HasNoChildren \\\\Important) \"/\" \"[Gmail]/Important\"',\n",
       "  b'(\\\\HasNoChildren \\\\Sent) \"/\" \"[Gmail]/Sent Mail\"',\n",
       "  b'(\\\\HasNoChildren \\\\Junk) \"/\" \"[Gmail]/Spam\"',\n",
       "  b'(\\\\Flagged \\\\HasNoChildren) \"/\" \"[Gmail]/Starred\"'])"
      ]
     },
     "execution_count": 7,
     "metadata": {},
     "output_type": "execute_result"
    }
   ],
   "source": [
    "M.list()"
   ]
  },
  {
   "cell_type": "code",
   "execution_count": 8,
   "id": "6e19f0d9",
   "metadata": {},
   "outputs": [
    {
     "data": {
      "text/plain": [
       "('OK', [b'1507'])"
      ]
     },
     "execution_count": 8,
     "metadata": {},
     "output_type": "execute_result"
    }
   ],
   "source": [
    "M.select('inbox')"
   ]
  },
  {
   "cell_type": "code",
   "execution_count": 9,
   "id": "d1264cb6",
   "metadata": {},
   "outputs": [],
   "source": [
    "typ,data=M.search(None,'SUBJECT \"UDEMY COURSE\"')"
   ]
  },
  {
   "cell_type": "code",
   "execution_count": 13,
   "id": "07ccc4d7",
   "metadata": {},
   "outputs": [
    {
     "data": {
      "text/plain": [
       "'OK'"
      ]
     },
     "execution_count": 13,
     "metadata": {},
     "output_type": "execute_result"
    }
   ],
   "source": [
    "typ"
   ]
  },
  {
   "cell_type": "code",
   "execution_count": 14,
   "id": "7f4bb53a",
   "metadata": {},
   "outputs": [
    {
     "data": {
      "text/plain": [
       "[b'1505']"
      ]
     },
     "execution_count": 14,
     "metadata": {},
     "output_type": "execute_result"
    }
   ],
   "source": [
    "data"
   ]
  },
  {
   "cell_type": "code",
   "execution_count": 11,
   "id": "fad1e844",
   "metadata": {},
   "outputs": [],
   "source": [
    "email_id=data[0]"
   ]
  },
  {
   "cell_type": "code",
   "execution_count": 15,
   "id": "221adcb5",
   "metadata": {},
   "outputs": [],
   "source": [
    "result,email_data=M.fetch(email_id,'(RFC822)')"
   ]
  },
  {
   "cell_type": "code",
   "execution_count": 17,
   "id": "c0a08c9b",
   "metadata": {},
   "outputs": [
    {
     "data": {
      "text/plain": [
       "[(b'1505 (RFC822 {587}',\n",
       "  b'Bcc: cld.fldn@gmail.com\\r\\nReturn-Path: <cld.fldn@gmail.com>\\r\\nReceived: from [192.168.1.133] ([2a02:2f05:820e:e100:59ff:5d8a:a608:240c])\\r\\n        by smtp.gmail.com with ESMTPSA id m13-20020a50998d000000b005551387bb85sm9630646edb.94.2024.01.18.03.26.31\\r\\n        for <cld.fldn@gmail.com>\\r\\n        (version=TLS1_3 cipher=TLS_AES_256_GCM_SHA384 bits=256/256);\\r\\n        Thu, 18 Jan 2024 03:26:31 -0800 (PST)\\r\\nMessage-ID: <65a90ae7.500a0220.c8d75.6be3@mx.google.com>\\r\\nDate: Thu, 18 Jan 2024 03:26:31 -0800 (PST)\\r\\nFrom: cld.fldn@gmail.com\\r\\nSubject:Udemy Course\\r\\n\\r\\nSomething to fill up the space\\r\\n'),\n",
       " b')']"
      ]
     },
     "execution_count": 17,
     "metadata": {},
     "output_type": "execute_result"
    }
   ],
   "source": [
    "email_data"
   ]
  },
  {
   "cell_type": "code",
   "execution_count": 18,
   "id": "72413134",
   "metadata": {},
   "outputs": [],
   "source": [
    "raw_email=email_data[0][1]"
   ]
  },
  {
   "cell_type": "code",
   "execution_count": 19,
   "id": "9eb7cbbd",
   "metadata": {},
   "outputs": [],
   "source": [
    "raw_email_string=raw_email.decode('utf-8')"
   ]
  },
  {
   "cell_type": "code",
   "execution_count": 20,
   "id": "cc503275",
   "metadata": {},
   "outputs": [],
   "source": [
    "import email"
   ]
  },
  {
   "cell_type": "code",
   "execution_count": 21,
   "id": "cfac4c3c",
   "metadata": {},
   "outputs": [],
   "source": [
    "email_message=email.message_from_string(raw_email_string)"
   ]
  },
  {
   "cell_type": "code",
   "execution_count": 22,
   "id": "9b54c274",
   "metadata": {},
   "outputs": [
    {
     "data": {
      "text/plain": [
       "<email.message.Message at 0x14218eec6d0>"
      ]
     },
     "execution_count": 22,
     "metadata": {},
     "output_type": "execute_result"
    }
   ],
   "source": [
    "email_message"
   ]
  },
  {
   "cell_type": "code",
   "execution_count": 24,
   "id": "049f328e",
   "metadata": {},
   "outputs": [
    {
     "name": "stdout",
     "output_type": "stream",
     "text": [
      "b'Something to fill up the space\\r\\n'\n"
     ]
    }
   ],
   "source": [
    "for part in email_message.walk():\n",
    "    if part.get_content_type()=='text/plain':\n",
    "        body=part.get_payload(decode=True)\n",
    "        print(body)"
   ]
  },
  {
   "cell_type": "code",
   "execution_count": null,
   "id": "e0413675",
   "metadata": {},
   "outputs": [],
   "source": []
  }
 ],
 "metadata": {
  "kernelspec": {
   "display_name": "Python 3 (ipykernel)",
   "language": "python",
   "name": "python3"
  },
  "language_info": {
   "codemirror_mode": {
    "name": "ipython",
    "version": 3
   },
   "file_extension": ".py",
   "mimetype": "text/x-python",
   "name": "python",
   "nbconvert_exporter": "python",
   "pygments_lexer": "ipython3",
   "version": "3.11.5"
  }
 },
 "nbformat": 4,
 "nbformat_minor": 5
}
